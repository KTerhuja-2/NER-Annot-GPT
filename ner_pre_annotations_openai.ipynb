{
  "cells": [
    {
      "cell_type": "markdown",
      "id": "c3bd4272-6236-4301-99e5-1a6da27f103a",
      "metadata": {
        "id": "c3bd4272-6236-4301-99e5-1a6da27f103a",
        "tags": []
      },
      "source": [
        "<a href=\"https://colab.research.google.com/github/kili-technology/kili-python-sdk/blob/main/recipes/ner_pre_annotations_openai.ipynb\" target=\"_parent\"><img src=\"https://colab.research.google.com/assets/colab-badge.svg\" alt=\"Open In Colab\"/></a>"
      ]
    },
    {
      "cell_type": "markdown",
      "id": "d51fd409-fad3-48f3-bf19-087db76b43d6",
      "metadata": {
        "id": "d51fd409-fad3-48f3-bf19-087db76b43d6",
        "tags": []
      },
      "source": [
        "# How to import OpenAI NER pre-annotations"
      ]
    },
    {
      "cell_type": "markdown",
      "id": "86a187fc-6225-4c40-8fdb-cf08e31465f2",
      "metadata": {
        "id": "86a187fc-6225-4c40-8fdb-cf08e31465f2",
        "tags": []
      },
      "source": [
        "## Setup"
      ]
    },
    {
      "cell_type": "markdown",
      "id": "cf695f58",
      "metadata": {
        "id": "cf695f58"
      },
      "source": [
        "Let's start this tutorial by installing the packages we will need later on."
      ]
    },
    {
      "cell_type": "markdown",
      "id": "8b98a93b-8abc-42a6-9f3f-305f3ff3d78c",
      "metadata": {
        "id": "8b98a93b-8abc-42a6-9f3f-305f3ff3d78c"
      },
      "source": [
        "## Data preparation\n",
        "\n",
        "In this tutorial, we will use the CoNLL2003 dataset from the Hugging Face repository. This dataset contains more than 10,000 sentences annotated with named entities."
      ]
    },
    {
      "cell_type": "code",
      "execution_count": 1,
      "id": "0ff431f5-a5ca-418b-9d65-27ffae6da631",
      "metadata": {
        "id": "0ff431f5-a5ca-418b-9d65-27ffae6da631",
        "tags": []
      },
      "outputs": [
        {
          "name": "stderr",
          "output_type": "stream",
          "text": [
            "c:\\NER-GPT\\ner_annotation_gpt\\.venv\\lib\\site-packages\\tqdm\\auto.py:21: TqdmWarning: IProgress not found. Please update jupyter and ipywidgets. See https://ipywidgets.readthedocs.io/en/stable/user_install.html\n",
            "  from .autonotebook import tqdm as notebook_tqdm\n"
          ]
        }
      ],
      "source": [
        "from datasets import load_dataset"
      ]
    },
    {
      "cell_type": "markdown",
      "id": "88e9146c",
      "metadata": {
        "id": "88e9146c"
      },
      "source": [
        "To speed up the process, we will use a limited number of samples. We will also remove sentences that do not contain enough words."
      ]
    },
    {
      "cell_type": "code",
      "execution_count": 9,
      "id": "febe548d-47da-476d-86d2-5dece489e4bd",
      "metadata": {
        "id": "febe548d-47da-476d-86d2-5dece489e4bd",
        "tags": []
      },
      "outputs": [],
      "source": [
        "NER_TAGS_ONTOLOGY = {\n",
        "    \"O\": 0,\n",
        "    \"B-PERSON\": 1,\n",
        "    \"I-PERSON\": 2,\n",
        "    \"B-ORGANIZATION\": 3,\n",
        "    \"I-ORGANIZATION\": 4,\n",
        "    \"B-LOCATION\": 5,\n",
        "    \"I-LOCATION\": 6,\n",
        "    \"B-MISCELLANEOUS\": 7,\n",
        "    \"I-MISCELLANEOUS\": 8,\n",
        "}"
      ]
    },
    {
      "cell_type": "markdown",
      "id": "cc9ae135-d4ac-40dd-bb8e-c34e0f143db7",
      "metadata": {
        "id": "cc9ae135-d4ac-40dd-bb8e-c34e0f143db7"
      },
      "source": [
        "`NER_TAGS_ONTOLOGY` is a dictionary that maps the named entity tags in the CoNLL2003 dataset to integer labels. Here is the meaning of each key-value pair in the dictionary:\n",
        "\n",
        "- **O**: Represents the tag \"O\" which means that the token is not part of a named entity.\n",
        "- **B-PERSON**: Represents the beginning of a person.\n",
        "- **I-PERSON**: Represents a token inside a person.\n",
        "- **B-ORGANIZATION**: Represents the beginning of an organization.\n",
        "- **I-ORGANIZATION**: Represents a token inside an organization.\n",
        "- **B-LOCATION**: Represents the beginning of a location.\n",
        "- **I-LOCATION**: Represents a token inside a location.\n",
        "- **B-MISCELLANEOUS**: Represents the beginning of a miscellaneous.\n",
        "- **I-MISCELLANEOUS**: Represents a token inside a miscellaneous.\n",
        "\n",
        "During the training of a NER model, the entity names will be converted to integer labels using such a dictionary."
      ]
    },
    {
      "cell_type": "markdown",
      "id": "1a481ef4-cd47-4f4a-8f5c-26ff4ef07871",
      "metadata": {
        "id": "1a481ef4-cd47-4f4a-8f5c-26ff4ef07871",
        "tags": []
      },
      "source": [
        "## Connect with ChatGPT API"
      ]
    },
    {
      "cell_type": "markdown",
      "id": "cec7a639",
      "metadata": {
        "id": "cec7a639"
      },
      "source": [
        "Let's use the OpenAI API to get the pre-annotations for our dataset."
      ]
    },
    {
      "cell_type": "code",
      "execution_count": 3,
      "id": "sh0xOEZ_iYxk",
      "metadata": {
        "id": "sh0xOEZ_iYxk"
      },
      "outputs": [],
      "source": [
        "import os\n",
        "os.environ[\"OPENAI_API_BASE\"] = \"https://testavinx.openai.azure.com/\"\n",
        "os.environ[\"OPENAI_API_KEY\"] = \"cd826423871544a486d616f14805725a\"\n",
        "\n"
      ]
    },
    {
      "cell_type": "code",
      "execution_count": 4,
      "id": "mEBFeTRtkCPO",
      "metadata": {
        "id": "mEBFeTRtkCPO"
      },
      "outputs": [],
      "source": [
        "import os\n",
        "import openai\n",
        "openai.api_type = \"azure\"\n",
        "openai.api_version = \"2023-05-15\"\n",
        "openai.api_base = os.getenv(\"OPENAI_API_BASE\")  # Your Azure OpenAI resource's endpoint value.\n",
        "openai.api_key = os.getenv(\"OPENAI_API_KEY\")\n",
        "\n",
        "def get_response(prompt,input):\n",
        "\n",
        "  response = openai.ChatCompletion.create(\n",
        "\n",
        "                                          engine = \"gpt-35-turbo\",\n",
        "                                          messages = [\n",
        "                                              {\"role\":\"system\", \"content\": prompt},\n",
        "                                              {\"role\": \"user\", \"content\": input }\n",
        "                                          ]\n",
        "  )\n",
        "\n",
        "  return response['choices'][0]['message']['content']\n"
      ]
    },
    {
      "cell_type": "code",
      "execution_count": 5,
      "id": "P_SKR8zStQkt",
      "metadata": {
        "colab": {
          "base_uri": "https://localhost:8080/"
        },
        "id": "P_SKR8zStQkt",
        "outputId": "f4c0b727-5e47-4481-836f-d82acd9a5560"
      },
      "outputs": [
        {
          "ename": "APIConnectionError",
          "evalue": "Error communicating with OpenAI: HTTPSConnectionPool(host='testavinx.openai.azure.com', port=443): Max retries exceeded with url: //openai/deployments/gpt-35-turbo/chat/completions?api-version=2023-05-15 (Caused by SSLError(SSLCertVerificationError(1, '[SSL: CERTIFICATE_VERIFY_FAILED] certificate verify failed: unable to get local issuer certificate (_ssl.c:997)')))",
          "output_type": "error",
          "traceback": [
            "\u001b[1;31m---------------------------------------------------------------------------\u001b[0m",
            "\u001b[1;31mSSLCertVerificationError\u001b[0m                  Traceback (most recent call last)",
            "File \u001b[1;32mc:\\NER-GPT\\ner_annotation_gpt\\.venv\\lib\\site-packages\\urllib3\\connectionpool.py:468\u001b[0m, in \u001b[0;36mHTTPConnectionPool._make_request\u001b[1;34m(self, conn, method, url, body, headers, retries, timeout, chunked, response_conn, preload_content, decode_content, enforce_content_length)\u001b[0m\n\u001b[0;32m    467\u001b[0m \u001b[39mtry\u001b[39;00m:\n\u001b[1;32m--> 468\u001b[0m     \u001b[39mself\u001b[39;49m\u001b[39m.\u001b[39;49m_validate_conn(conn)\n\u001b[0;32m    469\u001b[0m \u001b[39mexcept\u001b[39;00m (SocketTimeout, BaseSSLError) \u001b[39mas\u001b[39;00m e:\n",
            "File \u001b[1;32mc:\\NER-GPT\\ner_annotation_gpt\\.venv\\lib\\site-packages\\urllib3\\connectionpool.py:1097\u001b[0m, in \u001b[0;36mHTTPSConnectionPool._validate_conn\u001b[1;34m(self, conn)\u001b[0m\n\u001b[0;32m   1096\u001b[0m \u001b[39mif\u001b[39;00m conn\u001b[39m.\u001b[39mis_closed:\n\u001b[1;32m-> 1097\u001b[0m     conn\u001b[39m.\u001b[39;49mconnect()\n\u001b[0;32m   1099\u001b[0m \u001b[39mif\u001b[39;00m \u001b[39mnot\u001b[39;00m conn\u001b[39m.\u001b[39mis_verified:\n",
            "File \u001b[1;32mc:\\NER-GPT\\ner_annotation_gpt\\.venv\\lib\\site-packages\\urllib3\\connection.py:642\u001b[0m, in \u001b[0;36mHTTPSConnection.connect\u001b[1;34m(self)\u001b[0m\n\u001b[0;32m    634\u001b[0m     warnings\u001b[39m.\u001b[39mwarn(\n\u001b[0;32m    635\u001b[0m         (\n\u001b[0;32m    636\u001b[0m             \u001b[39mf\u001b[39m\u001b[39m\"\u001b[39m\u001b[39mSystem time is way off (before \u001b[39m\u001b[39m{\u001b[39;00mRECENT_DATE\u001b[39m}\u001b[39;00m\u001b[39m). This will probably \u001b[39m\u001b[39m\"\u001b[39m\n\u001b[1;32m   (...)\u001b[0m\n\u001b[0;32m    639\u001b[0m         SystemTimeWarning,\n\u001b[0;32m    640\u001b[0m     )\n\u001b[1;32m--> 642\u001b[0m sock_and_verified \u001b[39m=\u001b[39m _ssl_wrap_socket_and_match_hostname(\n\u001b[0;32m    643\u001b[0m     sock\u001b[39m=\u001b[39;49msock,\n\u001b[0;32m    644\u001b[0m     cert_reqs\u001b[39m=\u001b[39;49m\u001b[39mself\u001b[39;49m\u001b[39m.\u001b[39;49mcert_reqs,\n\u001b[0;32m    645\u001b[0m     ssl_version\u001b[39m=\u001b[39;49m\u001b[39mself\u001b[39;49m\u001b[39m.\u001b[39;49mssl_version,\n\u001b[0;32m    646\u001b[0m     ssl_minimum_version\u001b[39m=\u001b[39;49m\u001b[39mself\u001b[39;49m\u001b[39m.\u001b[39;49mssl_minimum_version,\n\u001b[0;32m    647\u001b[0m     ssl_maximum_version\u001b[39m=\u001b[39;49m\u001b[39mself\u001b[39;49m\u001b[39m.\u001b[39;49mssl_maximum_version,\n\u001b[0;32m    648\u001b[0m     ca_certs\u001b[39m=\u001b[39;49m\u001b[39mself\u001b[39;49m\u001b[39m.\u001b[39;49mca_certs,\n\u001b[0;32m    649\u001b[0m     ca_cert_dir\u001b[39m=\u001b[39;49m\u001b[39mself\u001b[39;49m\u001b[39m.\u001b[39;49mca_cert_dir,\n\u001b[0;32m    650\u001b[0m     ca_cert_data\u001b[39m=\u001b[39;49m\u001b[39mself\u001b[39;49m\u001b[39m.\u001b[39;49mca_cert_data,\n\u001b[0;32m    651\u001b[0m     cert_file\u001b[39m=\u001b[39;49m\u001b[39mself\u001b[39;49m\u001b[39m.\u001b[39;49mcert_file,\n\u001b[0;32m    652\u001b[0m     key_file\u001b[39m=\u001b[39;49m\u001b[39mself\u001b[39;49m\u001b[39m.\u001b[39;49mkey_file,\n\u001b[0;32m    653\u001b[0m     key_password\u001b[39m=\u001b[39;49m\u001b[39mself\u001b[39;49m\u001b[39m.\u001b[39;49mkey_password,\n\u001b[0;32m    654\u001b[0m     server_hostname\u001b[39m=\u001b[39;49mserver_hostname,\n\u001b[0;32m    655\u001b[0m     ssl_context\u001b[39m=\u001b[39;49m\u001b[39mself\u001b[39;49m\u001b[39m.\u001b[39;49mssl_context,\n\u001b[0;32m    656\u001b[0m     tls_in_tls\u001b[39m=\u001b[39;49mtls_in_tls,\n\u001b[0;32m    657\u001b[0m     assert_hostname\u001b[39m=\u001b[39;49m\u001b[39mself\u001b[39;49m\u001b[39m.\u001b[39;49massert_hostname,\n\u001b[0;32m    658\u001b[0m     assert_fingerprint\u001b[39m=\u001b[39;49m\u001b[39mself\u001b[39;49m\u001b[39m.\u001b[39;49massert_fingerprint,\n\u001b[0;32m    659\u001b[0m )\n\u001b[0;32m    660\u001b[0m \u001b[39mself\u001b[39m\u001b[39m.\u001b[39msock \u001b[39m=\u001b[39m sock_and_verified\u001b[39m.\u001b[39msocket\n",
            "File \u001b[1;32mc:\\NER-GPT\\ner_annotation_gpt\\.venv\\lib\\site-packages\\urllib3\\connection.py:783\u001b[0m, in \u001b[0;36m_ssl_wrap_socket_and_match_hostname\u001b[1;34m(sock, cert_reqs, ssl_version, ssl_minimum_version, ssl_maximum_version, cert_file, key_file, key_password, ca_certs, ca_cert_dir, ca_cert_data, assert_hostname, assert_fingerprint, server_hostname, ssl_context, tls_in_tls)\u001b[0m\n\u001b[0;32m    781\u001b[0m         server_hostname \u001b[39m=\u001b[39m normalized\n\u001b[1;32m--> 783\u001b[0m ssl_sock \u001b[39m=\u001b[39m ssl_wrap_socket(\n\u001b[0;32m    784\u001b[0m     sock\u001b[39m=\u001b[39;49msock,\n\u001b[0;32m    785\u001b[0m     keyfile\u001b[39m=\u001b[39;49mkey_file,\n\u001b[0;32m    786\u001b[0m     certfile\u001b[39m=\u001b[39;49mcert_file,\n\u001b[0;32m    787\u001b[0m     key_password\u001b[39m=\u001b[39;49mkey_password,\n\u001b[0;32m    788\u001b[0m     ca_certs\u001b[39m=\u001b[39;49mca_certs,\n\u001b[0;32m    789\u001b[0m     ca_cert_dir\u001b[39m=\u001b[39;49mca_cert_dir,\n\u001b[0;32m    790\u001b[0m     ca_cert_data\u001b[39m=\u001b[39;49mca_cert_data,\n\u001b[0;32m    791\u001b[0m     server_hostname\u001b[39m=\u001b[39;49mserver_hostname,\n\u001b[0;32m    792\u001b[0m     ssl_context\u001b[39m=\u001b[39;49mcontext,\n\u001b[0;32m    793\u001b[0m     tls_in_tls\u001b[39m=\u001b[39;49mtls_in_tls,\n\u001b[0;32m    794\u001b[0m )\n\u001b[0;32m    796\u001b[0m \u001b[39mtry\u001b[39;00m:\n",
            "File \u001b[1;32mc:\\NER-GPT\\ner_annotation_gpt\\.venv\\lib\\site-packages\\urllib3\\util\\ssl_.py:471\u001b[0m, in \u001b[0;36mssl_wrap_socket\u001b[1;34m(sock, keyfile, certfile, cert_reqs, ca_certs, server_hostname, ssl_version, ciphers, ssl_context, ca_cert_dir, key_password, ca_cert_data, tls_in_tls)\u001b[0m\n\u001b[0;32m    469\u001b[0m     \u001b[39mpass\u001b[39;00m\n\u001b[1;32m--> 471\u001b[0m ssl_sock \u001b[39m=\u001b[39m _ssl_wrap_socket_impl(sock, context, tls_in_tls, server_hostname)\n\u001b[0;32m    472\u001b[0m \u001b[39mreturn\u001b[39;00m ssl_sock\n",
            "File \u001b[1;32mc:\\NER-GPT\\ner_annotation_gpt\\.venv\\lib\\site-packages\\urllib3\\util\\ssl_.py:515\u001b[0m, in \u001b[0;36m_ssl_wrap_socket_impl\u001b[1;34m(sock, ssl_context, tls_in_tls, server_hostname)\u001b[0m\n\u001b[0;32m    513\u001b[0m     \u001b[39mreturn\u001b[39;00m SSLTransport(sock, ssl_context, server_hostname)\n\u001b[1;32m--> 515\u001b[0m \u001b[39mreturn\u001b[39;00m ssl_context\u001b[39m.\u001b[39;49mwrap_socket(sock, server_hostname\u001b[39m=\u001b[39;49mserver_hostname)\n",
            "File \u001b[1;32mC:\\Program Files\\Python310\\lib\\ssl.py:513\u001b[0m, in \u001b[0;36mSSLContext.wrap_socket\u001b[1;34m(self, sock, server_side, do_handshake_on_connect, suppress_ragged_eofs, server_hostname, session)\u001b[0m\n\u001b[0;32m    507\u001b[0m \u001b[39mdef\u001b[39;00m \u001b[39mwrap_socket\u001b[39m(\u001b[39mself\u001b[39m, sock, server_side\u001b[39m=\u001b[39m\u001b[39mFalse\u001b[39;00m,\n\u001b[0;32m    508\u001b[0m                 do_handshake_on_connect\u001b[39m=\u001b[39m\u001b[39mTrue\u001b[39;00m,\n\u001b[0;32m    509\u001b[0m                 suppress_ragged_eofs\u001b[39m=\u001b[39m\u001b[39mTrue\u001b[39;00m,\n\u001b[0;32m    510\u001b[0m                 server_hostname\u001b[39m=\u001b[39m\u001b[39mNone\u001b[39;00m, session\u001b[39m=\u001b[39m\u001b[39mNone\u001b[39;00m):\n\u001b[0;32m    511\u001b[0m     \u001b[39m# SSLSocket class handles server_hostname encoding before it calls\u001b[39;00m\n\u001b[0;32m    512\u001b[0m     \u001b[39m# ctx._wrap_socket()\u001b[39;00m\n\u001b[1;32m--> 513\u001b[0m     \u001b[39mreturn\u001b[39;00m \u001b[39mself\u001b[39;49m\u001b[39m.\u001b[39;49msslsocket_class\u001b[39m.\u001b[39;49m_create(\n\u001b[0;32m    514\u001b[0m         sock\u001b[39m=\u001b[39;49msock,\n\u001b[0;32m    515\u001b[0m         server_side\u001b[39m=\u001b[39;49mserver_side,\n\u001b[0;32m    516\u001b[0m         do_handshake_on_connect\u001b[39m=\u001b[39;49mdo_handshake_on_connect,\n\u001b[0;32m    517\u001b[0m         suppress_ragged_eofs\u001b[39m=\u001b[39;49msuppress_ragged_eofs,\n\u001b[0;32m    518\u001b[0m         server_hostname\u001b[39m=\u001b[39;49mserver_hostname,\n\u001b[0;32m    519\u001b[0m         context\u001b[39m=\u001b[39;49m\u001b[39mself\u001b[39;49m,\n\u001b[0;32m    520\u001b[0m         session\u001b[39m=\u001b[39;49msession\n\u001b[0;32m    521\u001b[0m     )\n",
            "File \u001b[1;32mC:\\Program Files\\Python310\\lib\\ssl.py:1071\u001b[0m, in \u001b[0;36mSSLSocket._create\u001b[1;34m(cls, sock, server_side, do_handshake_on_connect, suppress_ragged_eofs, server_hostname, context, session)\u001b[0m\n\u001b[0;32m   1070\u001b[0m             \u001b[39mraise\u001b[39;00m \u001b[39mValueError\u001b[39;00m(\u001b[39m\"\u001b[39m\u001b[39mdo_handshake_on_connect should not be specified for non-blocking sockets\u001b[39m\u001b[39m\"\u001b[39m)\n\u001b[1;32m-> 1071\u001b[0m         \u001b[39mself\u001b[39;49m\u001b[39m.\u001b[39;49mdo_handshake()\n\u001b[0;32m   1072\u001b[0m \u001b[39mexcept\u001b[39;00m (\u001b[39mOSError\u001b[39;00m, \u001b[39mValueError\u001b[39;00m):\n",
            "File \u001b[1;32mC:\\Program Files\\Python310\\lib\\ssl.py:1342\u001b[0m, in \u001b[0;36mSSLSocket.do_handshake\u001b[1;34m(self, block)\u001b[0m\n\u001b[0;32m   1341\u001b[0m         \u001b[39mself\u001b[39m\u001b[39m.\u001b[39msettimeout(\u001b[39mNone\u001b[39;00m)\n\u001b[1;32m-> 1342\u001b[0m     \u001b[39mself\u001b[39;49m\u001b[39m.\u001b[39;49m_sslobj\u001b[39m.\u001b[39;49mdo_handshake()\n\u001b[0;32m   1343\u001b[0m \u001b[39mfinally\u001b[39;00m:\n",
            "\u001b[1;31mSSLCertVerificationError\u001b[0m: [SSL: CERTIFICATE_VERIFY_FAILED] certificate verify failed: unable to get local issuer certificate (_ssl.c:997)",
            "\nDuring handling of the above exception, another exception occurred:\n",
            "\u001b[1;31mSSLError\u001b[0m                                  Traceback (most recent call last)",
            "File \u001b[1;32mc:\\NER-GPT\\ner_annotation_gpt\\.venv\\lib\\site-packages\\urllib3\\connectionpool.py:791\u001b[0m, in \u001b[0;36mHTTPConnectionPool.urlopen\u001b[1;34m(self, method, url, body, headers, retries, redirect, assert_same_host, timeout, pool_timeout, release_conn, chunked, body_pos, preload_content, decode_content, **response_kw)\u001b[0m\n\u001b[0;32m    790\u001b[0m \u001b[39m# Make the request on the HTTPConnection object\u001b[39;00m\n\u001b[1;32m--> 791\u001b[0m response \u001b[39m=\u001b[39m \u001b[39mself\u001b[39m\u001b[39m.\u001b[39m_make_request(\n\u001b[0;32m    792\u001b[0m     conn,\n\u001b[0;32m    793\u001b[0m     method,\n\u001b[0;32m    794\u001b[0m     url,\n\u001b[0;32m    795\u001b[0m     timeout\u001b[39m=\u001b[39mtimeout_obj,\n\u001b[0;32m    796\u001b[0m     body\u001b[39m=\u001b[39mbody,\n\u001b[0;32m    797\u001b[0m     headers\u001b[39m=\u001b[39mheaders,\n\u001b[0;32m    798\u001b[0m     chunked\u001b[39m=\u001b[39mchunked,\n\u001b[0;32m    799\u001b[0m     retries\u001b[39m=\u001b[39mretries,\n\u001b[0;32m    800\u001b[0m     response_conn\u001b[39m=\u001b[39mresponse_conn,\n\u001b[0;32m    801\u001b[0m     preload_content\u001b[39m=\u001b[39mpreload_content,\n\u001b[0;32m    802\u001b[0m     decode_content\u001b[39m=\u001b[39mdecode_content,\n\u001b[0;32m    803\u001b[0m     \u001b[39m*\u001b[39m\u001b[39m*\u001b[39mresponse_kw,\n\u001b[0;32m    804\u001b[0m )\n\u001b[0;32m    806\u001b[0m \u001b[39m# Everything went great!\u001b[39;00m\n",
            "File \u001b[1;32mc:\\NER-GPT\\ner_annotation_gpt\\.venv\\lib\\site-packages\\urllib3\\connectionpool.py:492\u001b[0m, in \u001b[0;36mHTTPConnectionPool._make_request\u001b[1;34m(self, conn, method, url, body, headers, retries, timeout, chunked, response_conn, preload_content, decode_content, enforce_content_length)\u001b[0m\n\u001b[0;32m    491\u001b[0m         new_e \u001b[39m=\u001b[39m _wrap_proxy_error(new_e, conn\u001b[39m.\u001b[39mproxy\u001b[39m.\u001b[39mscheme)\n\u001b[1;32m--> 492\u001b[0m     \u001b[39mraise\u001b[39;00m new_e\n\u001b[0;32m    494\u001b[0m \u001b[39m# conn.request() calls http.client.*.request, not the method in\u001b[39;00m\n\u001b[0;32m    495\u001b[0m \u001b[39m# urllib3.request. It also calls makefile (recv) on the socket.\u001b[39;00m\n",
            "\u001b[1;31mSSLError\u001b[0m: [SSL: CERTIFICATE_VERIFY_FAILED] certificate verify failed: unable to get local issuer certificate (_ssl.c:997)",
            "\nThe above exception was the direct cause of the following exception:\n",
            "\u001b[1;31mMaxRetryError\u001b[0m                             Traceback (most recent call last)",
            "File \u001b[1;32mc:\\NER-GPT\\ner_annotation_gpt\\.venv\\lib\\site-packages\\requests\\adapters.py:486\u001b[0m, in \u001b[0;36mHTTPAdapter.send\u001b[1;34m(self, request, stream, timeout, verify, cert, proxies)\u001b[0m\n\u001b[0;32m    485\u001b[0m \u001b[39mtry\u001b[39;00m:\n\u001b[1;32m--> 486\u001b[0m     resp \u001b[39m=\u001b[39m conn\u001b[39m.\u001b[39;49murlopen(\n\u001b[0;32m    487\u001b[0m         method\u001b[39m=\u001b[39;49mrequest\u001b[39m.\u001b[39;49mmethod,\n\u001b[0;32m    488\u001b[0m         url\u001b[39m=\u001b[39;49murl,\n\u001b[0;32m    489\u001b[0m         body\u001b[39m=\u001b[39;49mrequest\u001b[39m.\u001b[39;49mbody,\n\u001b[0;32m    490\u001b[0m         headers\u001b[39m=\u001b[39;49mrequest\u001b[39m.\u001b[39;49mheaders,\n\u001b[0;32m    491\u001b[0m         redirect\u001b[39m=\u001b[39;49m\u001b[39mFalse\u001b[39;49;00m,\n\u001b[0;32m    492\u001b[0m         assert_same_host\u001b[39m=\u001b[39;49m\u001b[39mFalse\u001b[39;49;00m,\n\u001b[0;32m    493\u001b[0m         preload_content\u001b[39m=\u001b[39;49m\u001b[39mFalse\u001b[39;49;00m,\n\u001b[0;32m    494\u001b[0m         decode_content\u001b[39m=\u001b[39;49m\u001b[39mFalse\u001b[39;49;00m,\n\u001b[0;32m    495\u001b[0m         retries\u001b[39m=\u001b[39;49m\u001b[39mself\u001b[39;49m\u001b[39m.\u001b[39;49mmax_retries,\n\u001b[0;32m    496\u001b[0m         timeout\u001b[39m=\u001b[39;49mtimeout,\n\u001b[0;32m    497\u001b[0m         chunked\u001b[39m=\u001b[39;49mchunked,\n\u001b[0;32m    498\u001b[0m     )\n\u001b[0;32m    500\u001b[0m \u001b[39mexcept\u001b[39;00m (ProtocolError, \u001b[39mOSError\u001b[39;00m) \u001b[39mas\u001b[39;00m err:\n",
            "File \u001b[1;32mc:\\NER-GPT\\ner_annotation_gpt\\.venv\\lib\\site-packages\\urllib3\\connectionpool.py:875\u001b[0m, in \u001b[0;36mHTTPConnectionPool.urlopen\u001b[1;34m(self, method, url, body, headers, retries, redirect, assert_same_host, timeout, pool_timeout, release_conn, chunked, body_pos, preload_content, decode_content, **response_kw)\u001b[0m\n\u001b[0;32m    872\u001b[0m     log\u001b[39m.\u001b[39mwarning(\n\u001b[0;32m    873\u001b[0m         \u001b[39m\"\u001b[39m\u001b[39mRetrying (\u001b[39m\u001b[39m%r\u001b[39;00m\u001b[39m) after connection broken by \u001b[39m\u001b[39m'\u001b[39m\u001b[39m%r\u001b[39;00m\u001b[39m'\u001b[39m\u001b[39m: \u001b[39m\u001b[39m%s\u001b[39;00m\u001b[39m\"\u001b[39m, retries, err, url\n\u001b[0;32m    874\u001b[0m     )\n\u001b[1;32m--> 875\u001b[0m     \u001b[39mreturn\u001b[39;00m \u001b[39mself\u001b[39m\u001b[39m.\u001b[39murlopen(\n\u001b[0;32m    876\u001b[0m         method,\n\u001b[0;32m    877\u001b[0m         url,\n\u001b[0;32m    878\u001b[0m         body,\n\u001b[0;32m    879\u001b[0m         headers,\n\u001b[0;32m    880\u001b[0m         retries,\n\u001b[0;32m    881\u001b[0m         redirect,\n\u001b[0;32m    882\u001b[0m         assert_same_host,\n\u001b[0;32m    883\u001b[0m         timeout\u001b[39m=\u001b[39mtimeout,\n\u001b[0;32m    884\u001b[0m         pool_timeout\u001b[39m=\u001b[39mpool_timeout,\n\u001b[0;32m    885\u001b[0m         release_conn\u001b[39m=\u001b[39mrelease_conn,\n\u001b[0;32m    886\u001b[0m         chunked\u001b[39m=\u001b[39mchunked,\n\u001b[0;32m    887\u001b[0m         body_pos\u001b[39m=\u001b[39mbody_pos,\n\u001b[0;32m    888\u001b[0m         preload_content\u001b[39m=\u001b[39mpreload_content,\n\u001b[0;32m    889\u001b[0m         decode_content\u001b[39m=\u001b[39mdecode_content,\n\u001b[0;32m    890\u001b[0m         \u001b[39m*\u001b[39m\u001b[39m*\u001b[39mresponse_kw,\n\u001b[0;32m    891\u001b[0m     )\n\u001b[0;32m    893\u001b[0m \u001b[39m# Handle redirect?\u001b[39;00m\n",
            "File \u001b[1;32mc:\\NER-GPT\\ner_annotation_gpt\\.venv\\lib\\site-packages\\urllib3\\connectionpool.py:875\u001b[0m, in \u001b[0;36mHTTPConnectionPool.urlopen\u001b[1;34m(self, method, url, body, headers, retries, redirect, assert_same_host, timeout, pool_timeout, release_conn, chunked, body_pos, preload_content, decode_content, **response_kw)\u001b[0m\n\u001b[0;32m    872\u001b[0m     log\u001b[39m.\u001b[39mwarning(\n\u001b[0;32m    873\u001b[0m         \u001b[39m\"\u001b[39m\u001b[39mRetrying (\u001b[39m\u001b[39m%r\u001b[39;00m\u001b[39m) after connection broken by \u001b[39m\u001b[39m'\u001b[39m\u001b[39m%r\u001b[39;00m\u001b[39m'\u001b[39m\u001b[39m: \u001b[39m\u001b[39m%s\u001b[39;00m\u001b[39m\"\u001b[39m, retries, err, url\n\u001b[0;32m    874\u001b[0m     )\n\u001b[1;32m--> 875\u001b[0m     \u001b[39mreturn\u001b[39;00m \u001b[39mself\u001b[39m\u001b[39m.\u001b[39murlopen(\n\u001b[0;32m    876\u001b[0m         method,\n\u001b[0;32m    877\u001b[0m         url,\n\u001b[0;32m    878\u001b[0m         body,\n\u001b[0;32m    879\u001b[0m         headers,\n\u001b[0;32m    880\u001b[0m         retries,\n\u001b[0;32m    881\u001b[0m         redirect,\n\u001b[0;32m    882\u001b[0m         assert_same_host,\n\u001b[0;32m    883\u001b[0m         timeout\u001b[39m=\u001b[39mtimeout,\n\u001b[0;32m    884\u001b[0m         pool_timeout\u001b[39m=\u001b[39mpool_timeout,\n\u001b[0;32m    885\u001b[0m         release_conn\u001b[39m=\u001b[39mrelease_conn,\n\u001b[0;32m    886\u001b[0m         chunked\u001b[39m=\u001b[39mchunked,\n\u001b[0;32m    887\u001b[0m         body_pos\u001b[39m=\u001b[39mbody_pos,\n\u001b[0;32m    888\u001b[0m         preload_content\u001b[39m=\u001b[39mpreload_content,\n\u001b[0;32m    889\u001b[0m         decode_content\u001b[39m=\u001b[39mdecode_content,\n\u001b[0;32m    890\u001b[0m         \u001b[39m*\u001b[39m\u001b[39m*\u001b[39mresponse_kw,\n\u001b[0;32m    891\u001b[0m     )\n\u001b[0;32m    893\u001b[0m \u001b[39m# Handle redirect?\u001b[39;00m\n",
            "File \u001b[1;32mc:\\NER-GPT\\ner_annotation_gpt\\.venv\\lib\\site-packages\\urllib3\\connectionpool.py:845\u001b[0m, in \u001b[0;36mHTTPConnectionPool.urlopen\u001b[1;34m(self, method, url, body, headers, retries, redirect, assert_same_host, timeout, pool_timeout, release_conn, chunked, body_pos, preload_content, decode_content, **response_kw)\u001b[0m\n\u001b[0;32m    843\u001b[0m     new_e \u001b[39m=\u001b[39m ProtocolError(\u001b[39m\"\u001b[39m\u001b[39mConnection aborted.\u001b[39m\u001b[39m\"\u001b[39m, new_e)\n\u001b[1;32m--> 845\u001b[0m retries \u001b[39m=\u001b[39m retries\u001b[39m.\u001b[39;49mincrement(\n\u001b[0;32m    846\u001b[0m     method, url, error\u001b[39m=\u001b[39;49mnew_e, _pool\u001b[39m=\u001b[39;49m\u001b[39mself\u001b[39;49m, _stacktrace\u001b[39m=\u001b[39;49msys\u001b[39m.\u001b[39;49mexc_info()[\u001b[39m2\u001b[39;49m]\n\u001b[0;32m    847\u001b[0m )\n\u001b[0;32m    848\u001b[0m retries\u001b[39m.\u001b[39msleep()\n",
            "File \u001b[1;32mc:\\NER-GPT\\ner_annotation_gpt\\.venv\\lib\\site-packages\\urllib3\\util\\retry.py:515\u001b[0m, in \u001b[0;36mRetry.increment\u001b[1;34m(self, method, url, response, error, _pool, _stacktrace)\u001b[0m\n\u001b[0;32m    514\u001b[0m     reason \u001b[39m=\u001b[39m error \u001b[39mor\u001b[39;00m ResponseError(cause)\n\u001b[1;32m--> 515\u001b[0m     \u001b[39mraise\u001b[39;00m MaxRetryError(_pool, url, reason) \u001b[39mfrom\u001b[39;00m \u001b[39mreason\u001b[39;00m  \u001b[39m# type: ignore[arg-type]\u001b[39;00m\n\u001b[0;32m    517\u001b[0m log\u001b[39m.\u001b[39mdebug(\u001b[39m\"\u001b[39m\u001b[39mIncremented Retry for (url=\u001b[39m\u001b[39m'\u001b[39m\u001b[39m%s\u001b[39;00m\u001b[39m'\u001b[39m\u001b[39m): \u001b[39m\u001b[39m%r\u001b[39;00m\u001b[39m\"\u001b[39m, url, new_retry)\n",
            "\u001b[1;31mMaxRetryError\u001b[0m: HTTPSConnectionPool(host='testavinx.openai.azure.com', port=443): Max retries exceeded with url: //openai/deployments/gpt-35-turbo/chat/completions?api-version=2023-05-15 (Caused by SSLError(SSLCertVerificationError(1, '[SSL: CERTIFICATE_VERIFY_FAILED] certificate verify failed: unable to get local issuer certificate (_ssl.c:997)')))",
            "\nDuring handling of the above exception, another exception occurred:\n",
            "\u001b[1;31mSSLError\u001b[0m                                  Traceback (most recent call last)",
            "File \u001b[1;32mc:\\NER-GPT\\ner_annotation_gpt\\.venv\\lib\\site-packages\\openai\\api_requestor.py:606\u001b[0m, in \u001b[0;36mAPIRequestor.request_raw\u001b[1;34m(self, method, url, params, supplied_headers, files, stream, request_id, request_timeout)\u001b[0m\n\u001b[0;32m    605\u001b[0m \u001b[39mtry\u001b[39;00m:\n\u001b[1;32m--> 606\u001b[0m     result \u001b[39m=\u001b[39m _thread_context\u001b[39m.\u001b[39;49msession\u001b[39m.\u001b[39;49mrequest(\n\u001b[0;32m    607\u001b[0m         method,\n\u001b[0;32m    608\u001b[0m         abs_url,\n\u001b[0;32m    609\u001b[0m         headers\u001b[39m=\u001b[39;49mheaders,\n\u001b[0;32m    610\u001b[0m         data\u001b[39m=\u001b[39;49mdata,\n\u001b[0;32m    611\u001b[0m         files\u001b[39m=\u001b[39;49mfiles,\n\u001b[0;32m    612\u001b[0m         stream\u001b[39m=\u001b[39;49mstream,\n\u001b[0;32m    613\u001b[0m         timeout\u001b[39m=\u001b[39;49mrequest_timeout \u001b[39mif\u001b[39;49;00m request_timeout \u001b[39melse\u001b[39;49;00m TIMEOUT_SECS,\n\u001b[0;32m    614\u001b[0m         proxies\u001b[39m=\u001b[39;49m_thread_context\u001b[39m.\u001b[39;49msession\u001b[39m.\u001b[39;49mproxies,\n\u001b[0;32m    615\u001b[0m     )\n\u001b[0;32m    616\u001b[0m \u001b[39mexcept\u001b[39;00m requests\u001b[39m.\u001b[39mexceptions\u001b[39m.\u001b[39mTimeout \u001b[39mas\u001b[39;00m e:\n",
            "File \u001b[1;32mc:\\NER-GPT\\ner_annotation_gpt\\.venv\\lib\\site-packages\\requests\\sessions.py:589\u001b[0m, in \u001b[0;36mSession.request\u001b[1;34m(self, method, url, params, data, headers, cookies, files, auth, timeout, allow_redirects, proxies, hooks, stream, verify, cert, json)\u001b[0m\n\u001b[0;32m    588\u001b[0m send_kwargs\u001b[39m.\u001b[39mupdate(settings)\n\u001b[1;32m--> 589\u001b[0m resp \u001b[39m=\u001b[39m \u001b[39mself\u001b[39m\u001b[39m.\u001b[39msend(prep, \u001b[39m*\u001b[39m\u001b[39m*\u001b[39msend_kwargs)\n\u001b[0;32m    591\u001b[0m \u001b[39mreturn\u001b[39;00m resp\n",
            "File \u001b[1;32mc:\\NER-GPT\\ner_annotation_gpt\\.venv\\lib\\site-packages\\requests\\sessions.py:703\u001b[0m, in \u001b[0;36mSession.send\u001b[1;34m(self, request, **kwargs)\u001b[0m\n\u001b[0;32m    702\u001b[0m \u001b[39m# Send the request\u001b[39;00m\n\u001b[1;32m--> 703\u001b[0m r \u001b[39m=\u001b[39m adapter\u001b[39m.\u001b[39msend(request, \u001b[39m*\u001b[39m\u001b[39m*\u001b[39mkwargs)\n\u001b[0;32m    705\u001b[0m \u001b[39m# Total elapsed time of the request (approximately)\u001b[39;00m\n",
            "File \u001b[1;32mc:\\NER-GPT\\ner_annotation_gpt\\.venv\\lib\\site-packages\\requests\\adapters.py:517\u001b[0m, in \u001b[0;36mHTTPAdapter.send\u001b[1;34m(self, request, stream, timeout, verify, cert, proxies)\u001b[0m\n\u001b[0;32m    515\u001b[0m \u001b[39mif\u001b[39;00m \u001b[39misinstance\u001b[39m(e\u001b[39m.\u001b[39mreason, _SSLError):\n\u001b[0;32m    516\u001b[0m     \u001b[39m# This branch is for urllib3 v1.22 and later.\u001b[39;00m\n\u001b[1;32m--> 517\u001b[0m     \u001b[39mraise\u001b[39;00m SSLError(e, request\u001b[39m=\u001b[39mrequest)\n\u001b[0;32m    519\u001b[0m \u001b[39mraise\u001b[39;00m \u001b[39mConnectionError\u001b[39;00m(e, request\u001b[39m=\u001b[39mrequest)\n",
            "\u001b[1;31mSSLError\u001b[0m: HTTPSConnectionPool(host='testavinx.openai.azure.com', port=443): Max retries exceeded with url: //openai/deployments/gpt-35-turbo/chat/completions?api-version=2023-05-15 (Caused by SSLError(SSLCertVerificationError(1, '[SSL: CERTIFICATE_VERIFY_FAILED] certificate verify failed: unable to get local issuer certificate (_ssl.c:997)')))",
            "\nThe above exception was the direct cause of the following exception:\n",
            "\u001b[1;31mAPIConnectionError\u001b[0m                        Traceback (most recent call last)",
            "\u001b[1;32mc:\\NER-GPT\\ner_annotation_gpt\\ner_pre_annotations_openai.ipynb Cell 14\u001b[0m line \u001b[0;36m5\n\u001b[0;32m      <a href='vscode-notebook-cell:/c%3A/NER-GPT/ner_annotation_gpt/ner_pre_annotations_openai.ipynb#X35sZmlsZQ%3D%3D?line=1'>2</a>\u001b[0m prompt \u001b[39m=\u001b[39m \u001b[39m\"\u001b[39m\u001b[39mAssistant is a large language model trained by OpenAI.\u001b[39m\u001b[39m\"\u001b[39m\n\u001b[0;32m      <a href='vscode-notebook-cell:/c%3A/NER-GPT/ner_annotation_gpt/ner_pre_annotations_openai.ipynb#X35sZmlsZQ%3D%3D?line=2'>3</a>\u001b[0m \u001b[39minput\u001b[39m \u001b[39m=\u001b[39m \u001b[39m\"\u001b[39m\u001b[39mtell me a joke?\u001b[39m\u001b[39m\"\u001b[39m\n\u001b[1;32m----> <a href='vscode-notebook-cell:/c%3A/NER-GPT/ner_annotation_gpt/ner_pre_annotations_openai.ipynb#X35sZmlsZQ%3D%3D?line=4'>5</a>\u001b[0m \u001b[39mprint\u001b[39m(get_response(prompt, \u001b[39minput\u001b[39;49m))\n",
            "\u001b[1;32mc:\\NER-GPT\\ner_annotation_gpt\\ner_pre_annotations_openai.ipynb Cell 14\u001b[0m line \u001b[0;36m1\n\u001b[0;32m      <a href='vscode-notebook-cell:/c%3A/NER-GPT/ner_annotation_gpt/ner_pre_annotations_openai.ipynb#X35sZmlsZQ%3D%3D?line=7'>8</a>\u001b[0m \u001b[39mdef\u001b[39;00m \u001b[39mget_response\u001b[39m(prompt,\u001b[39minput\u001b[39m):\n\u001b[1;32m---> <a href='vscode-notebook-cell:/c%3A/NER-GPT/ner_annotation_gpt/ner_pre_annotations_openai.ipynb#X35sZmlsZQ%3D%3D?line=9'>10</a>\u001b[0m   response \u001b[39m=\u001b[39m openai\u001b[39m.\u001b[39;49mChatCompletion\u001b[39m.\u001b[39;49mcreate(\n\u001b[0;32m     <a href='vscode-notebook-cell:/c%3A/NER-GPT/ner_annotation_gpt/ner_pre_annotations_openai.ipynb#X35sZmlsZQ%3D%3D?line=10'>11</a>\u001b[0m \n\u001b[0;32m     <a href='vscode-notebook-cell:/c%3A/NER-GPT/ner_annotation_gpt/ner_pre_annotations_openai.ipynb#X35sZmlsZQ%3D%3D?line=11'>12</a>\u001b[0m                                           engine \u001b[39m=\u001b[39;49m \u001b[39m\"\u001b[39;49m\u001b[39mgpt-35-turbo\u001b[39;49m\u001b[39m\"\u001b[39;49m,\n\u001b[0;32m     <a href='vscode-notebook-cell:/c%3A/NER-GPT/ner_annotation_gpt/ner_pre_annotations_openai.ipynb#X35sZmlsZQ%3D%3D?line=12'>13</a>\u001b[0m                                           messages \u001b[39m=\u001b[39;49m [\n\u001b[0;32m     <a href='vscode-notebook-cell:/c%3A/NER-GPT/ner_annotation_gpt/ner_pre_annotations_openai.ipynb#X35sZmlsZQ%3D%3D?line=13'>14</a>\u001b[0m                                               {\u001b[39m\"\u001b[39;49m\u001b[39mrole\u001b[39;49m\u001b[39m\"\u001b[39;49m:\u001b[39m\"\u001b[39;49m\u001b[39msystem\u001b[39;49m\u001b[39m\"\u001b[39;49m, \u001b[39m\"\u001b[39;49m\u001b[39mcontent\u001b[39;49m\u001b[39m\"\u001b[39;49m: prompt},\n\u001b[0;32m     <a href='vscode-notebook-cell:/c%3A/NER-GPT/ner_annotation_gpt/ner_pre_annotations_openai.ipynb#X35sZmlsZQ%3D%3D?line=14'>15</a>\u001b[0m                                               {\u001b[39m\"\u001b[39;49m\u001b[39mrole\u001b[39;49m\u001b[39m\"\u001b[39;49m: \u001b[39m\"\u001b[39;49m\u001b[39muser\u001b[39;49m\u001b[39m\"\u001b[39;49m, \u001b[39m\"\u001b[39;49m\u001b[39mcontent\u001b[39;49m\u001b[39m\"\u001b[39;49m: \u001b[39minput\u001b[39;49m }\n\u001b[0;32m     <a href='vscode-notebook-cell:/c%3A/NER-GPT/ner_annotation_gpt/ner_pre_annotations_openai.ipynb#X35sZmlsZQ%3D%3D?line=15'>16</a>\u001b[0m                                           ]\n\u001b[0;32m     <a href='vscode-notebook-cell:/c%3A/NER-GPT/ner_annotation_gpt/ner_pre_annotations_openai.ipynb#X35sZmlsZQ%3D%3D?line=16'>17</a>\u001b[0m   )\n\u001b[0;32m     <a href='vscode-notebook-cell:/c%3A/NER-GPT/ner_annotation_gpt/ner_pre_annotations_openai.ipynb#X35sZmlsZQ%3D%3D?line=18'>19</a>\u001b[0m   \u001b[39mreturn\u001b[39;00m response[\u001b[39m'\u001b[39m\u001b[39mchoices\u001b[39m\u001b[39m'\u001b[39m][\u001b[39m0\u001b[39m][\u001b[39m'\u001b[39m\u001b[39mmessage\u001b[39m\u001b[39m'\u001b[39m][\u001b[39m'\u001b[39m\u001b[39mcontent\u001b[39m\u001b[39m'\u001b[39m]\n",
            "File \u001b[1;32mc:\\NER-GPT\\ner_annotation_gpt\\.venv\\lib\\site-packages\\openai\\api_resources\\chat_completion.py:25\u001b[0m, in \u001b[0;36mChatCompletion.create\u001b[1;34m(cls, *args, **kwargs)\u001b[0m\n\u001b[0;32m     23\u001b[0m \u001b[39mwhile\u001b[39;00m \u001b[39mTrue\u001b[39;00m:\n\u001b[0;32m     24\u001b[0m     \u001b[39mtry\u001b[39;00m:\n\u001b[1;32m---> 25\u001b[0m         \u001b[39mreturn\u001b[39;00m \u001b[39msuper\u001b[39m()\u001b[39m.\u001b[39mcreate(\u001b[39m*\u001b[39margs, \u001b[39m*\u001b[39m\u001b[39m*\u001b[39mkwargs)\n\u001b[0;32m     26\u001b[0m     \u001b[39mexcept\u001b[39;00m TryAgain \u001b[39mas\u001b[39;00m e:\n\u001b[0;32m     27\u001b[0m         \u001b[39mif\u001b[39;00m timeout \u001b[39mis\u001b[39;00m \u001b[39mnot\u001b[39;00m \u001b[39mNone\u001b[39;00m \u001b[39mand\u001b[39;00m time\u001b[39m.\u001b[39mtime() \u001b[39m>\u001b[39m start \u001b[39m+\u001b[39m timeout:\n",
            "File \u001b[1;32mc:\\NER-GPT\\ner_annotation_gpt\\.venv\\lib\\site-packages\\openai\\api_resources\\abstract\\engine_api_resource.py:155\u001b[0m, in \u001b[0;36mEngineAPIResource.create\u001b[1;34m(cls, api_key, api_base, api_type, request_id, api_version, organization, **params)\u001b[0m\n\u001b[0;32m    129\u001b[0m \u001b[39m@classmethod\u001b[39m\n\u001b[0;32m    130\u001b[0m \u001b[39mdef\u001b[39;00m \u001b[39mcreate\u001b[39m(\n\u001b[0;32m    131\u001b[0m     \u001b[39mcls\u001b[39m,\n\u001b[1;32m   (...)\u001b[0m\n\u001b[0;32m    138\u001b[0m     \u001b[39m*\u001b[39m\u001b[39m*\u001b[39mparams,\n\u001b[0;32m    139\u001b[0m ):\n\u001b[0;32m    140\u001b[0m     (\n\u001b[0;32m    141\u001b[0m         deployment_id,\n\u001b[0;32m    142\u001b[0m         engine,\n\u001b[1;32m   (...)\u001b[0m\n\u001b[0;32m    152\u001b[0m         api_key, api_base, api_type, api_version, organization, \u001b[39m*\u001b[39m\u001b[39m*\u001b[39mparams\n\u001b[0;32m    153\u001b[0m     )\n\u001b[1;32m--> 155\u001b[0m     response, _, api_key \u001b[39m=\u001b[39m requestor\u001b[39m.\u001b[39;49mrequest(\n\u001b[0;32m    156\u001b[0m         \u001b[39m\"\u001b[39;49m\u001b[39mpost\u001b[39;49m\u001b[39m\"\u001b[39;49m,\n\u001b[0;32m    157\u001b[0m         url,\n\u001b[0;32m    158\u001b[0m         params\u001b[39m=\u001b[39;49mparams,\n\u001b[0;32m    159\u001b[0m         headers\u001b[39m=\u001b[39;49mheaders,\n\u001b[0;32m    160\u001b[0m         stream\u001b[39m=\u001b[39;49mstream,\n\u001b[0;32m    161\u001b[0m         request_id\u001b[39m=\u001b[39;49mrequest_id,\n\u001b[0;32m    162\u001b[0m         request_timeout\u001b[39m=\u001b[39;49mrequest_timeout,\n\u001b[0;32m    163\u001b[0m     )\n\u001b[0;32m    165\u001b[0m     \u001b[39mif\u001b[39;00m stream:\n\u001b[0;32m    166\u001b[0m         \u001b[39m# must be an iterator\u001b[39;00m\n\u001b[0;32m    167\u001b[0m         \u001b[39massert\u001b[39;00m \u001b[39mnot\u001b[39;00m \u001b[39misinstance\u001b[39m(response, OpenAIResponse)\n",
            "File \u001b[1;32mc:\\NER-GPT\\ner_annotation_gpt\\.venv\\lib\\site-packages\\openai\\api_requestor.py:289\u001b[0m, in \u001b[0;36mAPIRequestor.request\u001b[1;34m(self, method, url, params, headers, files, stream, request_id, request_timeout)\u001b[0m\n\u001b[0;32m    278\u001b[0m \u001b[39mdef\u001b[39;00m \u001b[39mrequest\u001b[39m(\n\u001b[0;32m    279\u001b[0m     \u001b[39mself\u001b[39m,\n\u001b[0;32m    280\u001b[0m     method,\n\u001b[1;32m   (...)\u001b[0m\n\u001b[0;32m    287\u001b[0m     request_timeout: Optional[Union[\u001b[39mfloat\u001b[39m, Tuple[\u001b[39mfloat\u001b[39m, \u001b[39mfloat\u001b[39m]]] \u001b[39m=\u001b[39m \u001b[39mNone\u001b[39;00m,\n\u001b[0;32m    288\u001b[0m ) \u001b[39m-\u001b[39m\u001b[39m>\u001b[39m Tuple[Union[OpenAIResponse, Iterator[OpenAIResponse]], \u001b[39mbool\u001b[39m, \u001b[39mstr\u001b[39m]:\n\u001b[1;32m--> 289\u001b[0m     result \u001b[39m=\u001b[39m \u001b[39mself\u001b[39;49m\u001b[39m.\u001b[39;49mrequest_raw(\n\u001b[0;32m    290\u001b[0m         method\u001b[39m.\u001b[39;49mlower(),\n\u001b[0;32m    291\u001b[0m         url,\n\u001b[0;32m    292\u001b[0m         params\u001b[39m=\u001b[39;49mparams,\n\u001b[0;32m    293\u001b[0m         supplied_headers\u001b[39m=\u001b[39;49mheaders,\n\u001b[0;32m    294\u001b[0m         files\u001b[39m=\u001b[39;49mfiles,\n\u001b[0;32m    295\u001b[0m         stream\u001b[39m=\u001b[39;49mstream,\n\u001b[0;32m    296\u001b[0m         request_id\u001b[39m=\u001b[39;49mrequest_id,\n\u001b[0;32m    297\u001b[0m         request_timeout\u001b[39m=\u001b[39;49mrequest_timeout,\n\u001b[0;32m    298\u001b[0m     )\n\u001b[0;32m    299\u001b[0m     resp, got_stream \u001b[39m=\u001b[39m \u001b[39mself\u001b[39m\u001b[39m.\u001b[39m_interpret_response(result, stream)\n\u001b[0;32m    300\u001b[0m     \u001b[39mreturn\u001b[39;00m resp, got_stream, \u001b[39mself\u001b[39m\u001b[39m.\u001b[39mapi_key\n",
            "File \u001b[1;32mc:\\NER-GPT\\ner_annotation_gpt\\.venv\\lib\\site-packages\\openai\\api_requestor.py:619\u001b[0m, in \u001b[0;36mAPIRequestor.request_raw\u001b[1;34m(self, method, url, params, supplied_headers, files, stream, request_id, request_timeout)\u001b[0m\n\u001b[0;32m    617\u001b[0m     \u001b[39mraise\u001b[39;00m error\u001b[39m.\u001b[39mTimeout(\u001b[39m\"\u001b[39m\u001b[39mRequest timed out: \u001b[39m\u001b[39m{}\u001b[39;00m\u001b[39m\"\u001b[39m\u001b[39m.\u001b[39mformat(e)) \u001b[39mfrom\u001b[39;00m \u001b[39me\u001b[39;00m\n\u001b[0;32m    618\u001b[0m \u001b[39mexcept\u001b[39;00m requests\u001b[39m.\u001b[39mexceptions\u001b[39m.\u001b[39mRequestException \u001b[39mas\u001b[39;00m e:\n\u001b[1;32m--> 619\u001b[0m     \u001b[39mraise\u001b[39;00m error\u001b[39m.\u001b[39mAPIConnectionError(\n\u001b[0;32m    620\u001b[0m         \u001b[39m\"\u001b[39m\u001b[39mError communicating with OpenAI: \u001b[39m\u001b[39m{}\u001b[39;00m\u001b[39m\"\u001b[39m\u001b[39m.\u001b[39mformat(e)\n\u001b[0;32m    621\u001b[0m     ) \u001b[39mfrom\u001b[39;00m \u001b[39me\u001b[39;00m\n\u001b[0;32m    622\u001b[0m util\u001b[39m.\u001b[39mlog_debug(\n\u001b[0;32m    623\u001b[0m     \u001b[39m\"\u001b[39m\u001b[39mOpenAI API response\u001b[39m\u001b[39m\"\u001b[39m,\n\u001b[0;32m    624\u001b[0m     path\u001b[39m=\u001b[39mabs_url,\n\u001b[1;32m   (...)\u001b[0m\n\u001b[0;32m    627\u001b[0m     request_id\u001b[39m=\u001b[39mresult\u001b[39m.\u001b[39mheaders\u001b[39m.\u001b[39mget(\u001b[39m\"\u001b[39m\u001b[39mX-Request-Id\u001b[39m\u001b[39m\"\u001b[39m),\n\u001b[0;32m    628\u001b[0m )\n\u001b[0;32m    629\u001b[0m \u001b[39m# Don't read the whole stream for debug logging unless necessary.\u001b[39;00m\n",
            "\u001b[1;31mAPIConnectionError\u001b[0m: Error communicating with OpenAI: HTTPSConnectionPool(host='testavinx.openai.azure.com', port=443): Max retries exceeded with url: //openai/deployments/gpt-35-turbo/chat/completions?api-version=2023-05-15 (Caused by SSLError(SSLCertVerificationError(1, '[SSL: CERTIFICATE_VERIFY_FAILED] certificate verify failed: unable to get local issuer certificate (_ssl.c:997)')))"
          ]
        }
      ],
      "source": [
        "#Sample\n",
        "prompt = \"Assistant is a large language model trained by OpenAI.\"\n",
        "input = \"tell me a joke?\"\n",
        "\n",
        "print(get_response(prompt, input))"
      ]
    },
    {
      "cell_type": "markdown",
      "id": "09214225",
      "metadata": {
        "id": "09214225"
      },
      "source": [
        "We can now define the parameters that will be used during the query to OpenAI model:\n",
        "\n",
        "- **model**: the model that will be used to generate the pre-annotations. The full list is available under this [link](https://platform.openai.com/docs/models/overview).\n",
        "- **temperature**: the temperature of the model. The higher the temperature, the more random the text. The lower the temperature, the more likely it is to predict the next word. The default value is 0.7. It should be between 0 and 2. Higher values like 0.8 will make the output more random, while lower values like 0.2 will make it more focused and deterministic.\n",
        "- **max_tokens**: the maximum number of tokens to generate. The default value is 64. It should be between 1 and 4096, depending on the model."
      ]
    },
    {
      "cell_type": "markdown",
      "id": "536a3ca9-0f8a-4084-9e32-2168cb01906b",
      "metadata": {
        "id": "536a3ca9-0f8a-4084-9e32-2168cb01906b"
      },
      "source": [
        "## Prompt design"
      ]
    },
    {
      "cell_type": "markdown",
      "id": "43289d7d",
      "metadata": {
        "id": "43289d7d"
      },
      "source": [
        "To get pre-annotations for our dataset, we need to create a prompt that tells the model what to do:"
      ]
    },
    {
      "cell_type": "code",
      "execution_count": 52,
      "id": "1aed640d-c420-468d-9a3b-7ea4cbeb62d5",
      "metadata": {
        "id": "1aed640d-c420-468d-9a3b-7ea4cbeb62d5",
        "tags": []
      },
      "outputs": [],
      "source": [
        "base_prompt = \"\"\"In the sentence below, give me the list of:\n",
        "- organization named entity\n",
        "- location named entity\n",
        "- person named entity\n",
        "- miscellaneous named entity.\n",
        "Format the output in json with the following keys:\n",
        "- ORGANIZATION for organization named entity\n",
        "- LOCATION for location named entity\n",
        "- PERSON for person named entity\n",
        "- MISCELLANEOUS for miscellaneous named entity.\n",
        "Sentence below:\n",
        "\"\"\""
      ]
    },
    {
      "cell_type": "markdown",
      "id": "cfa35db5",
      "metadata": {
        "id": "cfa35db5"
      },
      "source": [
        "Let's see if the model understands the prompt well on a simple example:"
      ]
    },
    {
      "cell_type": "code",
      "execution_count": 54,
      "id": "656d09ac-68b9-442c-893d-5c759e599743",
      "metadata": {
        "id": "656d09ac-68b9-442c-893d-5c759e599743",
        "tags": []
      },
      "outputs": [],
      "source": [
        "test_sentence = (\n",
        "    \"Elon Musk is the CEO of Tesla and SpaceX. He was born in South Africa and now lives in the\"\n",
        "    \" USA. He is one of the founders of OpenAI.\"\n",
        ")"
      ]
    },
    {
      "cell_type": "code",
      "execution_count": 55,
      "id": "w2RrvlRCtm13",
      "metadata": {
        "colab": {
          "base_uri": "https://localhost:8080/",
          "height": 36
        },
        "id": "w2RrvlRCtm13",
        "outputId": "40066bb3-0778-4478-e271-47b92f09a065"
      },
      "outputs": [
        {
          "data": {
            "application/vnd.google.colaboratory.intrinsic+json": {
              "type": "string"
            },
            "text/plain": [
              "'Elon Musk is the CEO of Tesla and SpaceX. He was born in South Africa and now lives in the USA. He is one of the founders of OpenAI.'"
            ]
          },
          "execution_count": 55,
          "metadata": {},
          "output_type": "execute_result"
        }
      ],
      "source": [
        "test_sentence"
      ]
    },
    {
      "cell_type": "code",
      "execution_count": 56,
      "id": "890056f6-e403-4ca9-8a1f-068533cf786d",
      "metadata": {
        "colab": {
          "base_uri": "https://localhost:8080/"
        },
        "id": "890056f6-e403-4ca9-8a1f-068533cf786d",
        "outputId": "aad5170e-636b-4cd5-cd15-516c2477a82e",
        "tags": []
      },
      "outputs": [
        {
          "name": "stdout",
          "output_type": "stream",
          "text": [
            "{\n",
            "    \"PERSON\": [\n",
            "        \"Elon Musk\"\n",
            "    ],\n",
            "    \"ORGANIZATION\": [\n",
            "        \"Tesla\",\n",
            "        \"SpaceX\",\n",
            "        \"OpenAI\"\n",
            "    ],\n",
            "    \"LOCATION\": [\n",
            "        \"South Africa\",\n",
            "        \"USA\"\n",
            "    ],\n",
            "    \"MISCELLANEOUS\": []\n",
            "}\n"
          ]
        }
      ],
      "source": [
        "print(get_response(base_prompt, test_sentence))"
      ]
    },
    {
      "cell_type": "markdown",
      "id": "4c31d5ed",
      "metadata": {
        "id": "4c31d5ed"
      },
      "source": [
        "Looks really good! Let's now process all sentences in our dataset with the previous prompt."
      ]
    },
    {
      "cell_type": "markdown",
      "id": "d1cd460d-5405-4bde-a5a1-a2944c5e2ee9",
      "metadata": {
        "id": "d1cd460d-5405-4bde-a5a1-a2944c5e2ee9",
        "tags": []
      },
      "source": [
        "## Create the pre-annotations"
      ]
    },
    {
      "cell_type": "markdown",
      "id": "63472faa",
      "metadata": {
        "id": "63472faa"
      },
      "source": [
        "In the code below, we will use the OpenAI API to get the pre-annotations for each sentence in our dataset."
      ]
    },
    {
      "cell_type": "code",
      "execution_count": 60,
      "id": "86c602c9-7fb6-4f64-ac7d-9613bdecdde6",
      "metadata": {
        "colab": {
          "base_uri": "https://localhost:8080/"
        },
        "id": "86c602c9-7fb6-4f64-ac7d-9613bdecdde6",
        "outputId": "04000707-85fd-4b8b-f34d-008a7c038218",
        "tags": []
      },
      "outputs": [
        {
          "name": "stdout",
          "output_type": "stream",
          "text": [
            "Wrong json formatting:\n",
            "Output: \n",
            "```\n",
            "{\n",
            "  \"ORGANIZATION\": [\n",
            "    \"Welsh National Farmers' Union (NFU)\",\n",
            "    \"BBC\"\n",
            "  ],\n",
            "  \"LOCATION\": [\n",
            "    \"Germany\"\n",
            "  ],\n",
            "  \"PERSON\": [\n",
            "    \"John Lloyd Jones\"\n",
            "  ],\n",
            "  \"MISCELLANEOUS\": []\n",
            "}\n",
            "```\n"
          ]
        }
      ],
      "source": [
        "openai_answers = []\n",
        "for datapoint in dataset:\n",
        "    sentence = datapoint[\"sentence\"]\n",
        "    answer = get_response(base_prompt, sentence)\n",
        "    try:\n",
        "        answer_json = json.loads(answer)\n",
        "    except json.JSONDecodeError:\n",
        "        print(f\"Wrong json formatting:\\n{answer}\")\n",
        "        answer_json = {\"ORGANIZATION\": [], \"LOCATION\": [], \"PERSON\": [], \"MISCELLANEOUS\": []}\n",
        "    openai_answers.append(answer_json)"
      ]
    },
    {
      "cell_type": "code",
      "execution_count": 61,
      "id": "ff6ebf46-637b-4b5f-9e33-fdb846fd4adc",
      "metadata": {
        "colab": {
          "base_uri": "https://localhost:8080/"
        },
        "id": "ff6ebf46-637b-4b5f-9e33-fdb846fd4adc",
        "outputId": "edc60820-3187-4af5-f738-916685a96ab6",
        "tags": []
      },
      "outputs": [
        {
          "name": "stdout",
          "output_type": "stream",
          "text": [
            "[{'ORGANIZATION': ['EU', 'British'], 'LOCATION': ['German'], 'PERSON': [], 'MISCELLANEOUS': ['lamb']}, {'ORGANIZATION': ['The European Commission', 'British'], 'LOCATION': ['German'], 'PERSON': [], 'MISCELLANEOUS': ['Thursday', 'mad cow disease', 'sheep']}, {'ORGANIZATION': ['European Union'], 'LOCATION': ['Germany', 'Britain'], 'PERSON': ['Werner Zwingmann'], 'MISCELLANEOUS': ['Wednesday']}]\n"
          ]
        }
      ],
      "source": [
        "print(openai_answers[:3])"
      ]
    },
    {
      "cell_type": "markdown",
      "id": "997d3e25-db5a-4a5e-9b3e-a3047c4231e2",
      "metadata": {
        "id": "997d3e25-db5a-4a5e-9b3e-a3047c4231e2"
      },
      "source": [
        "We need to sanitize the json to make sure that the values are of type list:"
      ]
    },
    {
      "cell_type": "code",
      "execution_count": 62,
      "id": "iHGnxge5uzme",
      "metadata": {
        "colab": {
          "base_uri": "https://localhost:8080/"
        },
        "id": "iHGnxge5uzme",
        "outputId": "cef07921-0787-443b-862e-481c9e888820"
      },
      "outputs": [
        {
          "data": {
            "text/plain": [
              "[{'ORGANIZATION': ['EU', 'British'],\n",
              "  'LOCATION': ['German'],\n",
              "  'PERSON': [],\n",
              "  'MISCELLANEOUS': ['lamb']},\n",
              " {'ORGANIZATION': ['The European Commission', 'British'],\n",
              "  'LOCATION': ['German'],\n",
              "  'PERSON': [],\n",
              "  'MISCELLANEOUS': ['Thursday', 'mad cow disease', 'sheep']},\n",
              " {'ORGANIZATION': ['European Union'],\n",
              "  'LOCATION': ['Germany', 'Britain'],\n",
              "  'PERSON': ['Werner Zwingmann'],\n",
              "  'MISCELLANEOUS': ['Wednesday']},\n",
              " {'ORGANIZATION': ['Commission'],\n",
              "  'LOCATION': [],\n",
              "  'PERSON': ['Nikolaus van der Pas'],\n",
              "  'MISCELLANEOUS': ['news briefing']},\n",
              " {'ORGANIZATION': ['European Union'],\n",
              "  'LOCATION': [],\n",
              "  'PERSON': [],\n",
              "  'MISCELLANEOUS': ['scientific']},\n",
              " {'ORGANIZATION': ['EU Farm', 'Commissioner Franz Fischler'],\n",
              "  'LOCATION': [],\n",
              "  'PERSON': [],\n",
              "  'MISCELLANEOUS': ['sheep brains',\n",
              "   'spleens',\n",
              "   'spinal cords',\n",
              "   'human',\n",
              "   'animal food chains']},\n",
              " {'ORGANIZATION': ['EU'],\n",
              "  'LOCATION': ['Britain', 'France'],\n",
              "  'PERSON': ['Fischler'],\n",
              "  'MISCELLANEOUS': ['Bovine Spongiform Encephalopathy',\n",
              "   'BSE',\n",
              "   'mad cow disease']},\n",
              " {'ORGANIZATION': ['EU', 'standing veterinary committee'],\n",
              "  'LOCATION': ['EU'],\n",
              "  'PERSON': ['Fischler'],\n",
              "  'MISCELLANEOUS': ['animal health officials', 'human health']},\n",
              " {'ORGANIZATION': ['EU'],\n",
              "  'LOCATION': [],\n",
              "  'PERSON': ['Loyola de Palacio', 'Fischler'],\n",
              "  'MISCELLANEOUS': ['Spanish', 'farm']},\n",
              " {'ORGANIZATION': ['France', 'Britain'],\n",
              "  'LOCATION': [],\n",
              "  'PERSON': ['Fischler'],\n",
              "  'MISCELLANEOUS': []},\n",
              " {'ORGANIZATION': ['EU'],\n",
              "  'LOCATION': [],\n",
              "  'PERSON': [],\n",
              "  'MISCELLANEOUS': ['scientific veterinary',\n",
              "   'multidisciplinary',\n",
              "   'next month']},\n",
              " {'ORGANIZATION': ['BSE'],\n",
              "  'LOCATION': [],\n",
              "  'PERSON': [],\n",
              "  'MISCELLANEOUS': ['Sheep', 'scrapie']},\n",
              " {'ORGANIZATION': ['German'],\n",
              "  'LOCATION': ['British', 'Europe'],\n",
              "  'PERSON': [],\n",
              "  'MISCELLANEOUS': ['Thursday']},\n",
              " {'ORGANIZATION': [], 'LOCATION': [], 'PERSON': [], 'MISCELLANEOUS': []},\n",
              " {'ORGANIZATION': ['British'],\n",
              "  'LOCATION': ['Bonn'],\n",
              "  'PERSON': [],\n",
              "  'MISCELLANEOUS': ['March', 'mad cow disease']},\n",
              " {'ORGANIZATION': ['Germany', 'Britain'],\n",
              "  'LOCATION': [],\n",
              "  'PERSON': [],\n",
              "  'MISCELLANEOUS': ['last year']},\n",
              " {'ORGANIZATION': ['British'],\n",
              "  'LOCATION': [],\n",
              "  'PERSON': [],\n",
              "  'MISCELLANEOUS': ['4,275 tonnes']},\n",
              " {'ORGANIZATION': ['Hendrix'],\n",
              "  'LOCATION': [],\n",
              "  'PERSON': [],\n",
              "  'MISCELLANEOUS': ['17,000']},\n",
              " {'ORGANIZATION': ['U.S.'],\n",
              "  'LOCATION': [],\n",
              "  'PERSON': ['Jimi Hendrix'],\n",
              "  'MISCELLANEOUS': ['Thursday']},\n",
              " {'ORGANIZATION': ['Florida restaurant'],\n",
              "  'LOCATION': ['London'],\n",
              "  'PERSON': ['Hendrix'],\n",
              "  'MISCELLANEOUS': ['$', '10,925 pounds', '16,935']}]"
            ]
          },
          "execution_count": 62,
          "metadata": {},
          "output_type": "execute_result"
        }
      ],
      "source": [
        "openai_answers"
      ]
    },
    {
      "cell_type": "code",
      "execution_count": 63,
      "id": "592c11b7-c8af-4e10-92fa-d0cffd664522",
      "metadata": {
        "id": "592c11b7-c8af-4e10-92fa-d0cffd664522",
        "tags": []
      },
      "outputs": [],
      "source": [
        "for i, _ in enumerate(openai_answers):\n",
        "    json_dict = openai_answers[i]\n",
        "    for category in json_dict:\n",
        "        if isinstance(json_dict[category], str):\n",
        "            json_dict[category] = [json_dict[category]]\n",
        "        elif isinstance(json_dict[category], list):\n",
        "            continue\n",
        "        else:\n",
        "            print(f\"Unknown value type '{json_dict[category]}' for value '{json_dict[category]}'\")\n",
        "            json_dict[category] = []"
      ]
    },
    {
      "cell_type": "code",
      "execution_count": 64,
      "id": "c6WkrHuOwQ5H",
      "metadata": {
        "colab": {
          "base_uri": "https://localhost:8080/"
        },
        "id": "c6WkrHuOwQ5H",
        "outputId": "1a40e020-1451-4872-e70b-33c22b44b78d"
      },
      "outputs": [
        {
          "data": {
            "text/plain": [
              "{'ORGANIZATION': ['Florida restaurant'],\n",
              " 'LOCATION': ['London'],\n",
              " 'PERSON': ['Hendrix'],\n",
              " 'MISCELLANEOUS': ['$', '10,925 pounds', '16,935']}"
            ]
          },
          "execution_count": 64,
          "metadata": {},
          "output_type": "execute_result"
        }
      ],
      "source": []
    },
    {
      "cell_type": "markdown",
      "id": "24929d90-aea8-4e15-bb91-55a87388fdd7",
      "metadata": {
        "id": "24929d90-aea8-4e15-bb91-55a87388fdd7"
      },
      "source": [
        "\n",
        "## Import dataset and pre-annotations to Kili\n",
        "\n",
        "Now that we have both the data and the pre-annotations, we can import them to a Kili project."
      ]
    },
    {
      "cell_type": "code",
      "execution_count": null,
      "id": "3f9339bb-fe2b-49e4-8a0d-412dd4fc20b7",
      "metadata": {
        "id": "3f9339bb-fe2b-49e4-8a0d-412dd4fc20b7",
        "tags": []
      },
      "outputs": [],
      "source": [
        "from kili.client import Kili"
      ]
    },
    {
      "cell_type": "code",
      "execution_count": null,
      "id": "fc8682c4-2eae-49cc-a7d9-758569c06f03",
      "metadata": {
        "id": "fc8682c4-2eae-49cc-a7d9-758569c06f03",
        "tags": []
      },
      "outputs": [],
      "source": [
        "kili = Kili(\n",
        "    # api_endpoint=\"https://cloud.kili-technology.com/api/label/v2/graphql\",\n",
        "    # the line above can be uncommented and changed if you are working with an on-premise version of Kili\n",
        ")"
      ]
    },
    {
      "cell_type": "markdown",
      "id": "af3751e7",
      "metadata": {
        "id": "af3751e7"
      },
      "source": [
        "Below, we define the ontology (json interface) of the project. We define the 4 classes as well as their corresponding colors:"
      ]
    },
    {
      "cell_type": "code",
      "execution_count": null,
      "id": "4757855c-4bf8-432e-aa1d-d1d4e69399fe",
      "metadata": {
        "id": "4757855c-4bf8-432e-aa1d-d1d4e69399fe",
        "outputId": "b08ca10d-a43c-47d6-b645-e628d06ddd07",
        "tags": []
      },
      "outputs": [
        {
          "name": "stdout",
          "output_type": "stream",
          "text": [
            "[('PERSON', 'Person', '#1f77b4'), ('ORGANIZATION', 'Organization', '#ff7f0e'), ('LOCATION', 'Location', '#2ca02c'), ('MISCELLANEOUS', 'Miscellaneous', '#d62728')]\n"
          ]
        }
      ],
      "source": [
        "COLORS = [\"#1f77b4\", \"#ff7f0e\", \"#2ca02c\", \"#d62728\"]\n",
        "\n",
        "ENTITY_TYPES = [\n",
        "    (\"PERSON\", \"Person\"),\n",
        "    (\"ORGANIZATION\", \"Organization\"),\n",
        "    (\"LOCATION\", \"Location\"),\n",
        "    (\"MISCELLANEOUS\", \"Miscellaneous\"),\n",
        "]\n",
        "\n",
        "ENTITY_TYPES_WITH_COLORS = [\n",
        "    (entity_type[0], entity_type[1], color) for entity_type, color in zip(ENTITY_TYPES, COLORS)\n",
        "]\n",
        "print(ENTITY_TYPES_WITH_COLORS)"
      ]
    },
    {
      "cell_type": "code",
      "execution_count": null,
      "id": "9e48a962-a84d-4b7f-a21c-f7cc9bdff566",
      "metadata": {
        "id": "9e48a962-a84d-4b7f-a21c-f7cc9bdff566",
        "tags": []
      },
      "outputs": [],
      "source": [
        "json_interface = {\n",
        "    \"jobs\": {\n",
        "        \"NAMED_ENTITIES_RECOGNITION_JOB\": {\n",
        "            \"mlTask\": \"NAMED_ENTITIES_RECOGNITION\",\n",
        "            \"content\": {\n",
        "                \"categories\": {\n",
        "                    name: {\"name\": name_pretty, \"children\": [], \"color\": color}\n",
        "                    for name, name_pretty, color in ENTITY_TYPES_WITH_COLORS\n",
        "                },\n",
        "                \"input\": \"radio\",\n",
        "            },\n",
        "            \"instruction\": \"\",\n",
        "            \"required\": 1,\n",
        "            \"isChild\": False,\n",
        "        }\n",
        "    },\n",
        "}"
      ]
    },
    {
      "cell_type": "markdown",
      "id": "6c32cc6d",
      "metadata": {
        "id": "6c32cc6d"
      },
      "source": [
        "Let's now create the project with its ontology:"
      ]
    },
    {
      "cell_type": "code",
      "execution_count": null,
      "id": "96bdc2e2-3eca-4150-9094-cb10fafdebe1",
      "metadata": {
        "id": "96bdc2e2-3eca-4150-9094-cb10fafdebe1",
        "tags": []
      },
      "outputs": [],
      "source": [
        "project = kili.create_project(\n",
        "    title=\"[Kili SDK Notebook]: CoNLL Named Entity Recognition with OpenAI pre-annotations\",\n",
        "    input_type=\"TEXT\",\n",
        "    json_interface=json_interface,\n",
        ")\n",
        "project_id = project[\"id\"]"
      ]
    },
    {
      "cell_type": "markdown",
      "id": "edfdfabe",
      "metadata": {
        "id": "edfdfabe"
      },
      "source": [
        "We now import the sentences to the project:"
      ]
    },
    {
      "cell_type": "code",
      "execution_count": null,
      "id": "635fb3e9-0920-4f54-ad68-2f230eb63cbb",
      "metadata": {
        "id": "635fb3e9-0920-4f54-ad68-2f230eb63cbb",
        "outputId": "3a8be255-29f8-4716-da83-8421d05a10a3",
        "tags": []
      },
      "outputs": [
        {
          "name": "stdout",
          "output_type": "stream",
          "text": [
            "['EU rejects German call to boycott British lamb.', 'The European Commission said on Thursday it disagreed with German advice to consumers to shun British lamb until scientists determine whether mad cow disease can be transmitted to sheep.', \"Germany's representative to the European Union's veterinary committee Werner Zwingmann said on Wednesday consumers should buy sheepmeat from countries other than Britain until the scientific advice was clearer.\"]\n",
            "['0', '3', '4']\n"
          ]
        }
      ],
      "source": [
        "external_id_array = []\n",
        "content_array = []\n",
        "for datapoint in dataset:\n",
        "    sentence = datapoint[\"sentence\"]\n",
        "    content_array.append(sentence)\n",
        "    external_id_array.append(datapoint[\"id\"])\n",
        "\n",
        "print(content_array[:3])\n",
        "print(external_id_array[:3])"
      ]
    },
    {
      "cell_type": "code",
      "execution_count": null,
      "id": "5e73add5-4dc5-4965-b3d4-6ce45a2918d7",
      "metadata": {
        "id": "5e73add5-4dc5-4965-b3d4-6ce45a2918d7",
        "outputId": "ea652075-6cb4-4c1e-e26b-4fbe98dcdc1e",
        "tags": []
      },
      "outputs": [
        {
          "name": "stderr",
          "output_type": "stream",
          "text": [
            "100%|██████████████████████████████████████████████████████████████████████████████████████████████████████████████████████| 20/20 [00:03<00:00,  5.73it/s]\n"
          ]
        },
        {
          "data": {
            "text/plain": [
              "{'id': 'clf14l26401or0jv4e0d7d9ge'}"
            ]
          },
          "execution_count": null,
          "metadata": {},
          "output_type": "execute_result"
        }
      ],
      "source": [
        "kili.append_many_to_dataset(\n",
        "    project_id=project_id, content_array=content_array, external_id_array=external_id_array\n",
        ")"
      ]
    },
    {
      "cell_type": "markdown",
      "id": "d2776a0c",
      "metadata": {
        "id": "d2776a0c"
      },
      "source": [
        "If you go to the project page, you should be able to see your assets:"
      ]
    },
    {
      "cell_type": "markdown",
      "id": "9b9faf2b-8252-40b4-b958-6eb73c78da7c",
      "metadata": {
        "id": "9b9faf2b-8252-40b4-b958-6eb73c78da7c"
      },
      "source": [
        "![image.png](attachment:60725f12-45bb-4ab5-a9c0-0cec01b7c84e.png)"
      ]
    },
    {
      "cell_type": "markdown",
      "id": "74535e3f-aa96-4c72-9cb7-5dcc5b2ca73e",
      "metadata": {
        "id": "74535e3f-aa96-4c72-9cb7-5dcc5b2ca73e"
      },
      "source": [
        "And on the labeling interface, you will see the sentence and the ontology:"
      ]
    },
    {
      "cell_type": "markdown",
      "id": "e729807d-c7e1-49d5-829f-ab2709a7565a",
      "metadata": {
        "id": "e729807d-c7e1-49d5-829f-ab2709a7565a"
      },
      "source": [
        "![image.png](attachment:65cfc764-d1ea-4483-ae2c-83e5107eacb8.png)"
      ]
    },
    {
      "cell_type": "markdown",
      "id": "fb0023e0",
      "metadata": {
        "id": "fb0023e0"
      },
      "source": [
        "We can finally import our OpenAI-generated pre-annotations!"
      ]
    },
    {
      "cell_type": "code",
      "execution_count": null,
      "id": "cb1bb580-9fce-434e-a23f-c6ee5767d3c3",
      "metadata": {
        "id": "cb1bb580-9fce-434e-a23f-c6ee5767d3c3",
        "tags": []
      },
      "outputs": [],
      "source": [
        "json_response_array = []\n",
        "\n",
        "for datapoint, sentence_annotations in zip(dataset, openai_answers):\n",
        "    full_sentence = datapoint[\"sentence\"]\n",
        "    annotations = []  # list of annotations for the sentence\n",
        "    for category, _ in ENTITY_TYPES:\n",
        "        sentence_annotations_cat = sentence_annotations[category]\n",
        "        for content in sentence_annotations_cat:\n",
        "            begin_offset = full_sentence.find(content)\n",
        "            assert (\n",
        "                begin_offset != -1\n",
        "            ), f\"Cannot find offset of '{content}' in sentence '{full_sentence}'\"\n",
        "            annotation = {\n",
        "                \"categories\": [{\"name\": category}],\n",
        "                \"beginOffset\": begin_offset,\n",
        "                \"content\": content,\n",
        "            }\n",
        "            annotations.append(annotation)\n",
        "\n",
        "    json_resp = {\"NAMED_ENTITIES_RECOGNITION_JOB\": {\"annotations\": annotations}}\n",
        "    json_response_array.append(json_resp)"
      ]
    },
    {
      "cell_type": "code",
      "execution_count": null,
      "id": "b2b69667-9415-42fe-9ec0-253baa0ed57d",
      "metadata": {
        "id": "b2b69667-9415-42fe-9ec0-253baa0ed57d",
        "outputId": "9be6b9fa-a8a5-4892-8fb8-1069967844f0",
        "tags": []
      },
      "outputs": [
        {
          "name": "stdout",
          "output_type": "stream",
          "text": [
            "{'NAMED_ENTITIES_RECOGNITION_JOB': {'annotations': [{'categories': [{'name': 'ORGANIZATION'}], 'beginOffset': 0, 'content': 'EU'}, {'categories': [{'name': 'ORGANIZATION'}], 'beginOffset': 11, 'content': 'German'}, {'categories': [{'name': 'LOCATION'}], 'beginOffset': 34, 'content': 'British'}, {'categories': [{'name': 'MISCELLANEOUS'}], 'beginOffset': 42, 'content': 'lamb'}]}}\n"
          ]
        }
      ],
      "source": [
        "print(json_response_array[0])"
      ]
    },
    {
      "cell_type": "markdown",
      "id": "ce296986",
      "metadata": {
        "id": "ce296986"
      },
      "source": [
        "We then import the annotations using the `kili.create_predictions()` method:"
      ]
    },
    {
      "cell_type": "code",
      "execution_count": null,
      "id": "4f645e67-fece-4376-bda7-21bde13d4e64",
      "metadata": {
        "id": "4f645e67-fece-4376-bda7-21bde13d4e64",
        "outputId": "f9ff5ee6-e1f6-4cd6-fb12-660ecbc426f6",
        "tags": []
      },
      "outputs": [
        {
          "name": "stderr",
          "output_type": "stream",
          "text": [
            "100%|██████████████████████████████████████████████████████████████████████████████████████████████████████████████████████| 20/20 [00:00<00:00, 66.63it/s]\n"
          ]
        },
        {
          "data": {
            "text/plain": [
              "{'id': 'clf14l26401or0jv4e0d7d9ge'}"
            ]
          },
          "execution_count": null,
          "metadata": {},
          "output_type": "execute_result"
        }
      ],
      "source": [
        "kili.create_predictions(\n",
        "    project_id,\n",
        "    external_id_array=external_id_array,\n",
        "    json_response_array=json_response_array,\n",
        "    model_name=openai_query_params[\"model\"],\n",
        ")"
      ]
    },
    {
      "cell_type": "markdown",
      "id": "9d1ee89e",
      "metadata": {
        "id": "9d1ee89e"
      },
      "source": [
        "In the main project page, you should now be able to see that the assets have been pre-annotated with the model you chose before:"
      ]
    },
    {
      "cell_type": "markdown",
      "id": "a91ff8f1-5931-435e-a687-148e3b6bbaee",
      "metadata": {
        "id": "a91ff8f1-5931-435e-a687-148e3b6bbaee"
      },
      "source": [
        "![image.png](attachment:782658a8-f8c4-4a4d-b986-1dcabea34a94.png)"
      ]
    },
    {
      "cell_type": "markdown",
      "id": "3fb63d4d",
      "metadata": {
        "id": "3fb63d4d"
      },
      "source": [
        "On the labeling interface for a specific asset, you can see the pre-annotations:"
      ]
    },
    {
      "cell_type": "markdown",
      "id": "942cb354-127d-4d3f-9049-72aa0d4206c9",
      "metadata": {
        "id": "942cb354-127d-4d3f-9049-72aa0d4206c9"
      },
      "source": [
        "![image.png](attachment:8ac0f050-872f-4b28-8a08-6958210393fe.png)"
      ]
    },
    {
      "cell_type": "markdown",
      "id": "3d6da517",
      "metadata": {
        "id": "3d6da517"
      },
      "source": [
        "Great! We have successfully pre-annotated our dataset. Looks like this solution has the potential to save us a lot of time in future projects."
      ]
    },
    {
      "cell_type": "markdown",
      "id": "5c5aa6d1-3a25-4e7f-848c-f79797872c4d",
      "metadata": {
        "id": "5c5aa6d1-3a25-4e7f-848c-f79797872c4d"
      },
      "source": [
        "## Pre-annotations quality evaluation\n",
        "\n",
        "Because OpenAI-generated pre-annotations are not perfect, it would be great to have a way to measure the model's accuracy.\n",
        "\n",
        "Since our dataset CoNLL2003 has been annotated, we can easily evaluate the quality of the pre-annotations generated by OpenAI."
      ]
    },
    {
      "cell_type": "code",
      "execution_count": null,
      "id": "7cd727fc-74df-4957-9516-1017690db333",
      "metadata": {
        "id": "7cd727fc-74df-4957-9516-1017690db333",
        "tags": []
      },
      "outputs": [],
      "source": [
        "def format_sentence_annotations(sentence_annotations):\n",
        "    \"\"\"\n",
        "    Maps a token to its NER tag (B-ORGANIZATION, I-ORGANIZATION, etc.) class value.\n",
        "    \"\"\"\n",
        "    ret = defaultdict(list)\n",
        "    for category, _ in ENTITY_TYPES:\n",
        "        sentence_annotations_cat = sentence_annotations[category]\n",
        "        for content in sentence_annotations_cat:\n",
        "            content_split = content.split(\" \")\n",
        "            for i, token in enumerate(content_split):\n",
        "                if i == 0:\n",
        "                    ret[token].append(NER_TAGS_ONTOLOGY[f\"B-{category}\"])\n",
        "                else:\n",
        "                    ret[token].append(NER_TAGS_ONTOLOGY[f\"I-{category}\"])\n",
        "    return ret\n",
        "\n",
        "\n",
        "references = []\n",
        "predictions = []\n",
        "for datapoint, sentence_annotations in zip(dataset, openai_answers):\n",
        "    references.append(datapoint[\"ner_tags\"])\n",
        "\n",
        "    sentence_annotations = format_sentence_annotations(sentence_annotations)\n",
        "    ner_tags_predicted = []\n",
        "    for token in datapoint[\"tokens\"]:\n",
        "        if token in sentence_annotations and len(sentence_annotations[token]) > 0:\n",
        "            ner_tags_predicted.append(sentence_annotations[token][0])\n",
        "            del sentence_annotations[token][0]\n",
        "        else:\n",
        "            ner_tags_predicted.append(NER_TAGS_ONTOLOGY[\"O\"])\n",
        "    predictions.append(ner_tags_predicted)"
      ]
    },
    {
      "cell_type": "code",
      "execution_count": null,
      "id": "60d8f2d8-2ad4-493f-b501-fde70cd68b49",
      "metadata": {
        "id": "60d8f2d8-2ad4-493f-b501-fde70cd68b49",
        "outputId": "1e73e515-1140-4c35-c2d8-22756e8e1c09",
        "tags": []
      },
      "outputs": [
        {
          "name": "stdout",
          "output_type": "stream",
          "text": [
            "['EU', 'rejects', 'German', 'call', 'to', 'boycott', 'British', 'lamb', '.']\n",
            "[3, 0, 7, 0, 0, 0, 7, 0, 0]\n",
            "[3, 0, 3, 0, 0, 0, 5, 7, 0]\n",
            "{'O': 0, 'B-PERSON': 1, 'I-PERSON': 2, 'B-ORGANIZATION': 3, 'I-ORGANIZATION': 4, 'B-LOCATION': 5, 'I-LOCATION': 6, 'B-MISCELLANEOUS': 7, 'I-MISCELLANEOUS': 8}\n"
          ]
        }
      ],
      "source": [
        "print(dataset[0][\"tokens\"])\n",
        "print(references[0])\n",
        "print(predictions[0])\n",
        "print(NER_TAGS_ONTOLOGY)"
      ]
    },
    {
      "cell_type": "code",
      "execution_count": null,
      "id": "e56be1f9-72dc-43f2-9416-9b2d4fd11d97",
      "metadata": {
        "id": "e56be1f9-72dc-43f2-9416-9b2d4fd11d97",
        "tags": []
      },
      "outputs": [],
      "source": [
        "def flatten_list(list_):\n",
        "    ret = []\n",
        "    for sublist in list_:\n",
        "        ret.extend(sublist)\n",
        "    return ret\n",
        "\n",
        "\n",
        "references = flatten_list(references)\n",
        "predictions = flatten_list(predictions)\n",
        "references = np.array(references)\n",
        "predictions = np.array(predictions)"
      ]
    },
    {
      "cell_type": "code",
      "execution_count": null,
      "id": "4b71c12b-44f5-4337-8394-73ed6346163c",
      "metadata": {
        "id": "4b71c12b-44f5-4337-8394-73ed6346163c",
        "tags": []
      },
      "outputs": [],
      "source": [
        "from sklearn.metrics import f1_score"
      ]
    },
    {
      "cell_type": "markdown",
      "id": "f2afc004-4f9b-4485-a9d5-45dcd9582994",
      "metadata": {
        "id": "f2afc004-4f9b-4485-a9d5-45dcd9582994"
      },
      "source": [
        "We will use the F1 score to report the results."
      ]
    },
    {
      "cell_type": "code",
      "execution_count": null,
      "id": "fc9b1946-6676-4866-863d-884180a3ffb1",
      "metadata": {
        "id": "fc9b1946-6676-4866-863d-884180a3ffb1"
      },
      "outputs": [],
      "source": [
        "table = Table(title=f\"Results\")\n",
        "\n",
        "table.add_column(\"Class\")\n",
        "table.add_column(\"F1\")\n",
        "table.add_column(\"Nb samples\", justify=\"center\")\n",
        "\n",
        "for class_name, class_value in NER_TAGS_ONTOLOGY.items():\n",
        "    y_true = np.where(references == class_value, 1, 0)\n",
        "    y_pred = np.where(predictions == class_value, 1, 0)\n",
        "    table.add_row(\n",
        "        class_name,\n",
        "        f\"{f1_score(y_true, y_pred) * 100:6.1f}%\",\n",
        "        f\"{y_true.sum():3d}\",\n",
        "        end_section=True,\n",
        "    )\n",
        "\n",
        "# Group tokens regardless of their positions in the entities\n",
        "NER_TAGS_ONTOLOGY_GROUPED = {\n",
        "    \"PERSON\": (1, 2),\n",
        "    \"ORGANIZATION\": (3, 4),\n",
        "    \"LOCATION\": (5, 6),\n",
        "    \"MISCELLANEOUS\": (7, 8),\n",
        "}\n",
        "for class_name, class_values in NER_TAGS_ONTOLOGY_GROUPED.items():\n",
        "    y_true = np.where((references == class_values[0]) | (references == class_values[1]), 1, 0)\n",
        "    y_pred = np.where((predictions == class_values[0]) | (predictions == class_values[1]), 1, 0)\n",
        "    table.add_row(\n",
        "        class_name,\n",
        "        f\"{f1_score(y_true, y_pred) * 100:6.1f}%\",\n",
        "        f\"{y_true.sum():3d}\",\n",
        "        style=\"bold green\",\n",
        "        end_section=True,\n",
        "    )\n",
        "\n",
        "\n",
        "table.add_row(\n",
        "    \"All\",\n",
        "    f\"{f1_score(references, predictions, average='weighted') * 100:6.1f}%\",\n",
        "    f\"{len(references):3d}\",\n",
        "    style=f\"bold bright_red\",\n",
        ")"
      ]
    },
    {
      "cell_type": "code",
      "execution_count": null,
      "id": "8836bf99-a5e6-45b4-93c6-370ac8a9c64b",
      "metadata": {
        "id": "8836bf99-a5e6-45b4-93c6-370ac8a9c64b",
        "outputId": "f43fc6cd-651a-4b3b-813e-5d7ff8f7ad14",
        "tags": []
      },
      "outputs": [
        {
          "data": {
            "text/html": [
              "<pre style=\"white-space:pre;overflow-x:auto;line-height:normal;font-family:Menlo,'DejaVu Sans Mono',consolas,'Courier New',monospace\"><span style=\"font-style: italic\">                 Results                  </span>\n",
              "┏━━━━━━━━━━━━━━━━━┳━━━━━━━━━┳━━━━━━━━━━━━┓\n",
              "┃<span style=\"font-weight: bold\"> Class           </span>┃<span style=\"font-weight: bold\"> F1      </span>┃<span style=\"font-weight: bold\"> Nb samples </span>┃\n",
              "┡━━━━━━━━━━━━━━━━━╇━━━━━━━━━╇━━━━━━━━━━━━┩\n",
              "│ O               │   93.4% │    468     │\n",
              "├─────────────────┼─────────┼────────────┤\n",
              "│ B-PERSON        │   90.9% │     12     │\n",
              "├─────────────────┼─────────┼────────────┤\n",
              "│ I-PERSON        │  100.0% │     10     │\n",
              "├─────────────────┼─────────┼────────────┤\n",
              "│ B-ORGANIZATION  │   58.8% │     12     │\n",
              "├─────────────────┼─────────┼────────────┤\n",
              "│ I-ORGANIZATION  │   44.4% │      8     │\n",
              "├─────────────────┼─────────┼────────────┤\n",
              "│ B-LOCATION      │   71.4% │     14     │\n",
              "├─────────────────┼─────────┼────────────┤\n",
              "│ I-LOCATION      │    0.0% │      0     │\n",
              "├─────────────────┼─────────┼────────────┤\n",
              "│ B-MISCELLANEOUS │   10.3% │     15     │\n",
              "├─────────────────┼─────────┼────────────┤\n",
              "│ I-MISCELLANEOUS │   31.2% │      5     │\n",
              "├─────────────────┼─────────┼────────────┤\n",
              "│<span style=\"color: #008000; text-decoration-color: #008000; font-weight: bold\"> PERSON          </span>│<span style=\"color: #008000; text-decoration-color: #008000; font-weight: bold\">   95.2% </span>│<span style=\"color: #008000; text-decoration-color: #008000; font-weight: bold\">     22     </span>│\n",
              "├─────────────────┼─────────┼────────────┤\n",
              "│<span style=\"color: #008000; text-decoration-color: #008000; font-weight: bold\"> ORGANIZATION    </span>│<span style=\"color: #008000; text-decoration-color: #008000; font-weight: bold\">   53.8% </span>│<span style=\"color: #008000; text-decoration-color: #008000; font-weight: bold\">     20     </span>│\n",
              "├─────────────────┼─────────┼────────────┤\n",
              "│<span style=\"color: #008000; text-decoration-color: #008000; font-weight: bold\"> LOCATION        </span>│<span style=\"color: #008000; text-decoration-color: #008000; font-weight: bold\">   71.4% </span>│<span style=\"color: #008000; text-decoration-color: #008000; font-weight: bold\">     14     </span>│\n",
              "├─────────────────┼─────────┼────────────┤\n",
              "│<span style=\"color: #008000; text-decoration-color: #008000; font-weight: bold\"> MISCELLANEOUS   </span>│<span style=\"color: #008000; text-decoration-color: #008000; font-weight: bold\">   19.7% </span>│<span style=\"color: #008000; text-decoration-color: #008000; font-weight: bold\">     20     </span>│\n",
              "├─────────────────┼─────────┼────────────┤\n",
              "│<span style=\"color: #ff0000; text-decoration-color: #ff0000; font-weight: bold\"> All             </span>│<span style=\"color: #ff0000; text-decoration-color: #ff0000; font-weight: bold\">   88.6% </span>│<span style=\"color: #ff0000; text-decoration-color: #ff0000; font-weight: bold\">    544     </span>│\n",
              "└─────────────────┴─────────┴────────────┘\n",
              "</pre>\n"
            ],
            "text/plain": [
              "\u001b[3m                 Results                  \u001b[0m\n",
              "┏━━━━━━━━━━━━━━━━━┳━━━━━━━━━┳━━━━━━━━━━━━┓\n",
              "┃\u001b[1m \u001b[0m\u001b[1mClass          \u001b[0m\u001b[1m \u001b[0m┃\u001b[1m \u001b[0m\u001b[1mF1     \u001b[0m\u001b[1m \u001b[0m┃\u001b[1m \u001b[0m\u001b[1mNb samples\u001b[0m\u001b[1m \u001b[0m┃\n",
              "┡━━━━━━━━━━━━━━━━━╇━━━━━━━━━╇━━━━━━━━━━━━┩\n",
              "│ O               │   93.4% │    468     │\n",
              "├─────────────────┼─────────┼────────────┤\n",
              "│ B-PERSON        │   90.9% │     12     │\n",
              "├─────────────────┼─────────┼────────────┤\n",
              "│ I-PERSON        │  100.0% │     10     │\n",
              "├─────────────────┼─────────┼────────────┤\n",
              "│ B-ORGANIZATION  │   58.8% │     12     │\n",
              "├─────────────────┼─────────┼────────────┤\n",
              "│ I-ORGANIZATION  │   44.4% │      8     │\n",
              "├─────────────────┼─────────┼────────────┤\n",
              "│ B-LOCATION      │   71.4% │     14     │\n",
              "├─────────────────┼─────────┼────────────┤\n",
              "│ I-LOCATION      │    0.0% │      0     │\n",
              "├─────────────────┼─────────┼────────────┤\n",
              "│ B-MISCELLANEOUS │   10.3% │     15     │\n",
              "├─────────────────┼─────────┼────────────┤\n",
              "│ I-MISCELLANEOUS │   31.2% │      5     │\n",
              "├─────────────────┼─────────┼────────────┤\n",
              "│\u001b[1;32m \u001b[0m\u001b[1;32mPERSON         \u001b[0m\u001b[1;32m \u001b[0m│\u001b[1;32m \u001b[0m\u001b[1;32m  95.2%\u001b[0m\u001b[1;32m \u001b[0m│\u001b[1;32m \u001b[0m\u001b[1;32m    22    \u001b[0m\u001b[1;32m \u001b[0m│\n",
              "├─────────────────┼─────────┼────────────┤\n",
              "│\u001b[1;32m \u001b[0m\u001b[1;32mORGANIZATION   \u001b[0m\u001b[1;32m \u001b[0m│\u001b[1;32m \u001b[0m\u001b[1;32m  53.8%\u001b[0m\u001b[1;32m \u001b[0m│\u001b[1;32m \u001b[0m\u001b[1;32m    20    \u001b[0m\u001b[1;32m \u001b[0m│\n",
              "├─────────────────┼─────────┼────────────┤\n",
              "│\u001b[1;32m \u001b[0m\u001b[1;32mLOCATION       \u001b[0m\u001b[1;32m \u001b[0m│\u001b[1;32m \u001b[0m\u001b[1;32m  71.4%\u001b[0m\u001b[1;32m \u001b[0m│\u001b[1;32m \u001b[0m\u001b[1;32m    14    \u001b[0m\u001b[1;32m \u001b[0m│\n",
              "├─────────────────┼─────────┼────────────┤\n",
              "│\u001b[1;32m \u001b[0m\u001b[1;32mMISCELLANEOUS  \u001b[0m\u001b[1;32m \u001b[0m│\u001b[1;32m \u001b[0m\u001b[1;32m  19.7%\u001b[0m\u001b[1;32m \u001b[0m│\u001b[1;32m \u001b[0m\u001b[1;32m    20    \u001b[0m\u001b[1;32m \u001b[0m│\n",
              "├─────────────────┼─────────┼────────────┤\n",
              "│\u001b[1;91m \u001b[0m\u001b[1;91mAll            \u001b[0m\u001b[1;91m \u001b[0m│\u001b[1;91m \u001b[0m\u001b[1;91m  88.6%\u001b[0m\u001b[1;91m \u001b[0m│\u001b[1;91m \u001b[0m\u001b[1;91m   544    \u001b[0m\u001b[1;91m \u001b[0m│\n",
              "└─────────────────┴─────────┴────────────┘\n"
            ]
          },
          "metadata": {},
          "output_type": "display_data"
        }
      ],
      "source": [
        "console = Console()\n",
        "console.print(table)"
      ]
    },
    {
      "cell_type": "markdown",
      "id": "676d6e33-a35b-4ec1-90d9-effbee73b73a",
      "metadata": {
        "id": "676d6e33-a35b-4ec1-90d9-effbee73b73a"
      },
      "source": [
        "Quite good!\n",
        "\n",
        "As we can see, the pre-annotations are not perfect, but the LLM seems to be able to generate pre-annotations that are good enough to help us speed up the labelling process in future projects.\n",
        "\n",
        "## Conclusion\n",
        "\n",
        "In this tutorial, we have seen how to use the OpenAI API to generate pre-annotations for a dataset. We have also seen how to import the data and the pre-annotations to a Kili project, and how to evaluate the quality of these pre-annotations."
      ]
    }
  ],
  "metadata": {
    "colab": {
      "provenance": []
    },
    "kernelspec": {
      "display_name": "Python 3",
      "name": "python3"
    },
    "language_info": {
      "codemirror_mode": {
        "name": "ipython",
        "version": 3
      },
      "file_extension": ".py",
      "mimetype": "text/x-python",
      "name": "python",
      "nbconvert_exporter": "python",
      "pygments_lexer": "ipython3",
      "version": "3.10.5"
    },
    "widgets": {
      "application/vnd.jupyter.widget-state+json": {
        "04cd5bac57ad49f58842ee2dee25146c": {
          "model_module": "@jupyter-widgets/controls",
          "model_module_version": "1.5.0",
          "model_name": "HTMLModel",
          "state": {
            "_dom_classes": [],
            "_model_module": "@jupyter-widgets/controls",
            "_model_module_version": "1.5.0",
            "_model_name": "HTMLModel",
            "_view_count": null,
            "_view_module": "@jupyter-widgets/controls",
            "_view_module_version": "1.5.0",
            "_view_name": "HTMLView",
            "description": "",
            "description_tooltip": null,
            "layout": "IPY_MODEL_a9c410e666744e95a85e45ed9cc3d5c0",
            "placeholder": "​",
            "style": "IPY_MODEL_d0473f19cd9346deb7896cd21ca41742",
            "value": "Downloading readme: 100%"
          }
        },
        "04cf0b3196754308b70d6c28fa2dd4ff": {
          "model_module": "@jupyter-widgets/controls",
          "model_module_version": "1.5.0",
          "model_name": "HTMLModel",
          "state": {
            "_dom_classes": [],
            "_model_module": "@jupyter-widgets/controls",
            "_model_module_version": "1.5.0",
            "_model_name": "HTMLModel",
            "_view_count": null,
            "_view_module": "@jupyter-widgets/controls",
            "_view_module_version": "1.5.0",
            "_view_name": "HTMLView",
            "description": "",
            "description_tooltip": null,
            "layout": "IPY_MODEL_0a286791664640cfae0e4284c5acc94e",
            "placeholder": "​",
            "style": "IPY_MODEL_cff44cd010b84b628d2563fa18ed032a",
            "value": " 3.73k/3.73k [00:00&lt;00:00, 40.9kB/s]"
          }
        },
        "0817f8a0099742e48a49b17f73cfb3fa": {
          "model_module": "@jupyter-widgets/controls",
          "model_module_version": "1.5.0",
          "model_name": "DescriptionStyleModel",
          "state": {
            "_model_module": "@jupyter-widgets/controls",
            "_model_module_version": "1.5.0",
            "_model_name": "DescriptionStyleModel",
            "_view_count": null,
            "_view_module": "@jupyter-widgets/base",
            "_view_module_version": "1.2.0",
            "_view_name": "StyleView",
            "description_width": ""
          }
        },
        "095e8daba510440c873557719c809962": {
          "model_module": "@jupyter-widgets/base",
          "model_module_version": "1.2.0",
          "model_name": "LayoutModel",
          "state": {
            "_model_module": "@jupyter-widgets/base",
            "_model_module_version": "1.2.0",
            "_model_name": "LayoutModel",
            "_view_count": null,
            "_view_module": "@jupyter-widgets/base",
            "_view_module_version": "1.2.0",
            "_view_name": "LayoutView",
            "align_content": null,
            "align_items": null,
            "align_self": null,
            "border": null,
            "bottom": null,
            "display": null,
            "flex": null,
            "flex_flow": null,
            "grid_area": null,
            "grid_auto_columns": null,
            "grid_auto_flow": null,
            "grid_auto_rows": null,
            "grid_column": null,
            "grid_gap": null,
            "grid_row": null,
            "grid_template_areas": null,
            "grid_template_columns": null,
            "grid_template_rows": null,
            "height": null,
            "justify_content": null,
            "justify_items": null,
            "left": null,
            "margin": null,
            "max_height": null,
            "max_width": null,
            "min_height": null,
            "min_width": null,
            "object_fit": null,
            "object_position": null,
            "order": null,
            "overflow": null,
            "overflow_x": null,
            "overflow_y": null,
            "padding": null,
            "right": null,
            "top": null,
            "visibility": null,
            "width": null
          }
        },
        "0a1978cc9e6e4d5ab85d338c8245aeb3": {
          "model_module": "@jupyter-widgets/controls",
          "model_module_version": "1.5.0",
          "model_name": "ProgressStyleModel",
          "state": {
            "_model_module": "@jupyter-widgets/controls",
            "_model_module_version": "1.5.0",
            "_model_name": "ProgressStyleModel",
            "_view_count": null,
            "_view_module": "@jupyter-widgets/base",
            "_view_module_version": "1.2.0",
            "_view_name": "StyleView",
            "bar_color": null,
            "description_width": ""
          }
        },
        "0a286791664640cfae0e4284c5acc94e": {
          "model_module": "@jupyter-widgets/base",
          "model_module_version": "1.2.0",
          "model_name": "LayoutModel",
          "state": {
            "_model_module": "@jupyter-widgets/base",
            "_model_module_version": "1.2.0",
            "_model_name": "LayoutModel",
            "_view_count": null,
            "_view_module": "@jupyter-widgets/base",
            "_view_module_version": "1.2.0",
            "_view_name": "LayoutView",
            "align_content": null,
            "align_items": null,
            "align_self": null,
            "border": null,
            "bottom": null,
            "display": null,
            "flex": null,
            "flex_flow": null,
            "grid_area": null,
            "grid_auto_columns": null,
            "grid_auto_flow": null,
            "grid_auto_rows": null,
            "grid_column": null,
            "grid_gap": null,
            "grid_row": null,
            "grid_template_areas": null,
            "grid_template_columns": null,
            "grid_template_rows": null,
            "height": null,
            "justify_content": null,
            "justify_items": null,
            "left": null,
            "margin": null,
            "max_height": null,
            "max_width": null,
            "min_height": null,
            "min_width": null,
            "object_fit": null,
            "object_position": null,
            "order": null,
            "overflow": null,
            "overflow_x": null,
            "overflow_y": null,
            "padding": null,
            "right": null,
            "top": null,
            "visibility": null,
            "width": null
          }
        },
        "0abf34cb4a214a9a8c0e63be1f92c034": {
          "model_module": "@jupyter-widgets/controls",
          "model_module_version": "1.5.0",
          "model_name": "HBoxModel",
          "state": {
            "_dom_classes": [],
            "_model_module": "@jupyter-widgets/controls",
            "_model_module_version": "1.5.0",
            "_model_name": "HBoxModel",
            "_view_count": null,
            "_view_module": "@jupyter-widgets/controls",
            "_view_module_version": "1.5.0",
            "_view_name": "HBoxView",
            "box_style": "",
            "children": [
              "IPY_MODEL_d87844e9dee84120bf8e26a59321e806",
              "IPY_MODEL_2a96ac397bac46fd9980e99ff4e43889",
              "IPY_MODEL_b41306d475824c1c9124a1e133b496ce"
            ],
            "layout": "IPY_MODEL_519c4171aa104223806b40659a270f3c"
          }
        },
        "0c3e09aa82bb4247b180c828d57bc0d0": {
          "model_module": "@jupyter-widgets/base",
          "model_module_version": "1.2.0",
          "model_name": "LayoutModel",
          "state": {
            "_model_module": "@jupyter-widgets/base",
            "_model_module_version": "1.2.0",
            "_model_name": "LayoutModel",
            "_view_count": null,
            "_view_module": "@jupyter-widgets/base",
            "_view_module_version": "1.2.0",
            "_view_name": "LayoutView",
            "align_content": null,
            "align_items": null,
            "align_self": null,
            "border": null,
            "bottom": null,
            "display": null,
            "flex": null,
            "flex_flow": null,
            "grid_area": null,
            "grid_auto_columns": null,
            "grid_auto_flow": null,
            "grid_auto_rows": null,
            "grid_column": null,
            "grid_gap": null,
            "grid_row": null,
            "grid_template_areas": null,
            "grid_template_columns": null,
            "grid_template_rows": null,
            "height": null,
            "justify_content": null,
            "justify_items": null,
            "left": null,
            "margin": null,
            "max_height": null,
            "max_width": null,
            "min_height": null,
            "min_width": null,
            "object_fit": null,
            "object_position": null,
            "order": null,
            "overflow": null,
            "overflow_x": null,
            "overflow_y": null,
            "padding": null,
            "right": null,
            "top": null,
            "visibility": null,
            "width": null
          }
        },
        "0c847bb177ef462d85d0ef01d1fdf0c1": {
          "model_module": "@jupyter-widgets/controls",
          "model_module_version": "1.5.0",
          "model_name": "HTMLModel",
          "state": {
            "_dom_classes": [],
            "_model_module": "@jupyter-widgets/controls",
            "_model_module_version": "1.5.0",
            "_model_name": "HTMLModel",
            "_view_count": null,
            "_view_module": "@jupyter-widgets/controls",
            "_view_module_version": "1.5.0",
            "_view_name": "HTMLView",
            "description": "",
            "description_tooltip": null,
            "layout": "IPY_MODEL_49322c2d5560424890d4d481a19a95c0",
            "placeholder": "​",
            "style": "IPY_MODEL_2fe5001a099f4029a346a480382802aa",
            "value": " 20/20 [00:00&lt;00:00, 560.90 examples/s]"
          }
        },
        "0d64c25f95544ddb8686742362eb8f87": {
          "model_module": "@jupyter-widgets/controls",
          "model_module_version": "1.5.0",
          "model_name": "DescriptionStyleModel",
          "state": {
            "_model_module": "@jupyter-widgets/controls",
            "_model_module_version": "1.5.0",
            "_model_name": "DescriptionStyleModel",
            "_view_count": null,
            "_view_module": "@jupyter-widgets/base",
            "_view_module_version": "1.2.0",
            "_view_name": "StyleView",
            "description_width": ""
          }
        },
        "116f33b0848e4fda88fe2f72e712a6a2": {
          "model_module": "@jupyter-widgets/controls",
          "model_module_version": "1.5.0",
          "model_name": "ProgressStyleModel",
          "state": {
            "_model_module": "@jupyter-widgets/controls",
            "_model_module_version": "1.5.0",
            "_model_name": "ProgressStyleModel",
            "_view_count": null,
            "_view_module": "@jupyter-widgets/base",
            "_view_module_version": "1.2.0",
            "_view_name": "StyleView",
            "bar_color": null,
            "description_width": ""
          }
        },
        "193985c76f5241efb44293fbb24376ce": {
          "model_module": "@jupyter-widgets/base",
          "model_module_version": "1.2.0",
          "model_name": "LayoutModel",
          "state": {
            "_model_module": "@jupyter-widgets/base",
            "_model_module_version": "1.2.0",
            "_model_name": "LayoutModel",
            "_view_count": null,
            "_view_module": "@jupyter-widgets/base",
            "_view_module_version": "1.2.0",
            "_view_name": "LayoutView",
            "align_content": null,
            "align_items": null,
            "align_self": null,
            "border": null,
            "bottom": null,
            "display": null,
            "flex": null,
            "flex_flow": null,
            "grid_area": null,
            "grid_auto_columns": null,
            "grid_auto_flow": null,
            "grid_auto_rows": null,
            "grid_column": null,
            "grid_gap": null,
            "grid_row": null,
            "grid_template_areas": null,
            "grid_template_columns": null,
            "grid_template_rows": null,
            "height": null,
            "justify_content": null,
            "justify_items": null,
            "left": null,
            "margin": null,
            "max_height": null,
            "max_width": null,
            "min_height": null,
            "min_width": null,
            "object_fit": null,
            "object_position": null,
            "order": null,
            "overflow": null,
            "overflow_x": null,
            "overflow_y": null,
            "padding": null,
            "right": null,
            "top": null,
            "visibility": null,
            "width": null
          }
        },
        "1b4648bd59944e0c917b9fcb914c22c2": {
          "model_module": "@jupyter-widgets/base",
          "model_module_version": "1.2.0",
          "model_name": "LayoutModel",
          "state": {
            "_model_module": "@jupyter-widgets/base",
            "_model_module_version": "1.2.0",
            "_model_name": "LayoutModel",
            "_view_count": null,
            "_view_module": "@jupyter-widgets/base",
            "_view_module_version": "1.2.0",
            "_view_name": "LayoutView",
            "align_content": null,
            "align_items": null,
            "align_self": null,
            "border": null,
            "bottom": null,
            "display": null,
            "flex": null,
            "flex_flow": null,
            "grid_area": null,
            "grid_auto_columns": null,
            "grid_auto_flow": null,
            "grid_auto_rows": null,
            "grid_column": null,
            "grid_gap": null,
            "grid_row": null,
            "grid_template_areas": null,
            "grid_template_columns": null,
            "grid_template_rows": null,
            "height": null,
            "justify_content": null,
            "justify_items": null,
            "left": null,
            "margin": null,
            "max_height": null,
            "max_width": null,
            "min_height": null,
            "min_width": null,
            "object_fit": null,
            "object_position": null,
            "order": null,
            "overflow": null,
            "overflow_x": null,
            "overflow_y": null,
            "padding": null,
            "right": null,
            "top": null,
            "visibility": null,
            "width": null
          }
        },
        "21704453b88d44f8920327262be3f69b": {
          "model_module": "@jupyter-widgets/controls",
          "model_module_version": "1.5.0",
          "model_name": "FloatProgressModel",
          "state": {
            "_dom_classes": [],
            "_model_module": "@jupyter-widgets/controls",
            "_model_module_version": "1.5.0",
            "_model_name": "FloatProgressModel",
            "_view_count": null,
            "_view_module": "@jupyter-widgets/controls",
            "_view_module_version": "1.5.0",
            "_view_name": "ProgressView",
            "bar_style": "success",
            "description": "",
            "description_tooltip": null,
            "layout": "IPY_MODEL_cd3346374b95420f966f17c6998851c9",
            "max": 3735,
            "min": 0,
            "orientation": "horizontal",
            "style": "IPY_MODEL_ccda840631f249529271ab95df6aedc4",
            "value": 3735
          }
        },
        "244f578fe3d949d1b9481c761b95be9a": {
          "model_module": "@jupyter-widgets/controls",
          "model_module_version": "1.5.0",
          "model_name": "HTMLModel",
          "state": {
            "_dom_classes": [],
            "_model_module": "@jupyter-widgets/controls",
            "_model_module_version": "1.5.0",
            "_model_name": "HTMLModel",
            "_view_count": null,
            "_view_module": "@jupyter-widgets/controls",
            "_view_module_version": "1.5.0",
            "_view_name": "HTMLView",
            "description": "",
            "description_tooltip": null,
            "layout": "IPY_MODEL_2e1acf733c65415eb3a952afa03bd08c",
            "placeholder": "​",
            "style": "IPY_MODEL_42baee9f68dc42fb9b9119c47d27e1aa",
            "value": " 983k/983k [00:00&lt;00:00, 2.23MB/s]"
          }
        },
        "2a96ac397bac46fd9980e99ff4e43889": {
          "model_module": "@jupyter-widgets/controls",
          "model_module_version": "1.5.0",
          "model_name": "FloatProgressModel",
          "state": {
            "_dom_classes": [],
            "_model_module": "@jupyter-widgets/controls",
            "_model_module_version": "1.5.0",
            "_model_name": "FloatProgressModel",
            "_view_count": null,
            "_view_module": "@jupyter-widgets/controls",
            "_view_module_version": "1.5.0",
            "_view_name": "ProgressView",
            "bar_style": "success",
            "description": "",
            "description_tooltip": null,
            "layout": "IPY_MODEL_193985c76f5241efb44293fbb24376ce",
            "max": 3453,
            "min": 0,
            "orientation": "horizontal",
            "style": "IPY_MODEL_5d5eb7a6e92f441aa65742865f1acb65",
            "value": 3453
          }
        },
        "2e1acf733c65415eb3a952afa03bd08c": {
          "model_module": "@jupyter-widgets/base",
          "model_module_version": "1.2.0",
          "model_name": "LayoutModel",
          "state": {
            "_model_module": "@jupyter-widgets/base",
            "_model_module_version": "1.2.0",
            "_model_name": "LayoutModel",
            "_view_count": null,
            "_view_module": "@jupyter-widgets/base",
            "_view_module_version": "1.2.0",
            "_view_name": "LayoutView",
            "align_content": null,
            "align_items": null,
            "align_self": null,
            "border": null,
            "bottom": null,
            "display": null,
            "flex": null,
            "flex_flow": null,
            "grid_area": null,
            "grid_auto_columns": null,
            "grid_auto_flow": null,
            "grid_auto_rows": null,
            "grid_column": null,
            "grid_gap": null,
            "grid_row": null,
            "grid_template_areas": null,
            "grid_template_columns": null,
            "grid_template_rows": null,
            "height": null,
            "justify_content": null,
            "justify_items": null,
            "left": null,
            "margin": null,
            "max_height": null,
            "max_width": null,
            "min_height": null,
            "min_width": null,
            "object_fit": null,
            "object_position": null,
            "order": null,
            "overflow": null,
            "overflow_x": null,
            "overflow_y": null,
            "padding": null,
            "right": null,
            "top": null,
            "visibility": null,
            "width": null
          }
        },
        "2fe5001a099f4029a346a480382802aa": {
          "model_module": "@jupyter-widgets/controls",
          "model_module_version": "1.5.0",
          "model_name": "DescriptionStyleModel",
          "state": {
            "_model_module": "@jupyter-widgets/controls",
            "_model_module_version": "1.5.0",
            "_model_name": "DescriptionStyleModel",
            "_view_count": null,
            "_view_module": "@jupyter-widgets/base",
            "_view_module_version": "1.2.0",
            "_view_name": "StyleView",
            "description_width": ""
          }
        },
        "2ffe2e92331a4be683c7351ac77c042c": {
          "model_module": "@jupyter-widgets/controls",
          "model_module_version": "1.5.0",
          "model_name": "HBoxModel",
          "state": {
            "_dom_classes": [],
            "_model_module": "@jupyter-widgets/controls",
            "_model_module_version": "1.5.0",
            "_model_name": "HBoxModel",
            "_view_count": null,
            "_view_module": "@jupyter-widgets/controls",
            "_view_module_version": "1.5.0",
            "_view_name": "HBoxView",
            "box_style": "",
            "children": [
              "IPY_MODEL_394d467d87ba4b01b8ea2607c3e1b871",
              "IPY_MODEL_5d2380a6aab343a6b202f8cee1b61c95",
              "IPY_MODEL_0c847bb177ef462d85d0ef01d1fdf0c1"
            ],
            "layout": "IPY_MODEL_f8fd87587e7a4eaa9a6411517ce6e075"
          }
        },
        "3177ff02e5344392985ab759a4057447": {
          "model_module": "@jupyter-widgets/controls",
          "model_module_version": "1.5.0",
          "model_name": "HBoxModel",
          "state": {
            "_dom_classes": [],
            "_model_module": "@jupyter-widgets/controls",
            "_model_module_version": "1.5.0",
            "_model_name": "HBoxModel",
            "_view_count": null,
            "_view_module": "@jupyter-widgets/controls",
            "_view_module_version": "1.5.0",
            "_view_name": "HBoxView",
            "box_style": "",
            "children": [
              "IPY_MODEL_5cf9928816054360a415a6a6047a5af9",
              "IPY_MODEL_d38b23e3acd44e6f885c690e13899f05",
              "IPY_MODEL_32cdff6076f54dccb4ca539a78b4a73a"
            ],
            "layout": "IPY_MODEL_90e6714fb8284bc7a00e288a2c2107aa"
          }
        },
        "32cdff6076f54dccb4ca539a78b4a73a": {
          "model_module": "@jupyter-widgets/controls",
          "model_module_version": "1.5.0",
          "model_name": "HTMLModel",
          "state": {
            "_dom_classes": [],
            "_model_module": "@jupyter-widgets/controls",
            "_model_module_version": "1.5.0",
            "_model_name": "HTMLModel",
            "_view_count": null,
            "_view_module": "@jupyter-widgets/controls",
            "_view_module_version": "1.5.0",
            "_view_name": "HTMLView",
            "description": "",
            "description_tooltip": null,
            "layout": "IPY_MODEL_4e7a61e1158b4856bd2d47674109d306",
            "placeholder": "​",
            "style": "IPY_MODEL_814ceddbfab947a182a6ae784b004520",
            "value": " 14041/14041 [00:11&lt;00:00, 1113.46 examples/s]"
          }
        },
        "3753c4f3fdc84119bd3325ef0cb8eee3": {
          "model_module": "@jupyter-widgets/base",
          "model_module_version": "1.2.0",
          "model_name": "LayoutModel",
          "state": {
            "_model_module": "@jupyter-widgets/base",
            "_model_module_version": "1.2.0",
            "_model_name": "LayoutModel",
            "_view_count": null,
            "_view_module": "@jupyter-widgets/base",
            "_view_module_version": "1.2.0",
            "_view_name": "LayoutView",
            "align_content": null,
            "align_items": null,
            "align_self": null,
            "border": null,
            "bottom": null,
            "display": null,
            "flex": null,
            "flex_flow": null,
            "grid_area": null,
            "grid_auto_columns": null,
            "grid_auto_flow": null,
            "grid_auto_rows": null,
            "grid_column": null,
            "grid_gap": null,
            "grid_row": null,
            "grid_template_areas": null,
            "grid_template_columns": null,
            "grid_template_rows": null,
            "height": null,
            "justify_content": null,
            "justify_items": null,
            "left": null,
            "margin": null,
            "max_height": null,
            "max_width": null,
            "min_height": null,
            "min_width": null,
            "object_fit": null,
            "object_position": null,
            "order": null,
            "overflow": null,
            "overflow_x": null,
            "overflow_y": null,
            "padding": null,
            "right": null,
            "top": null,
            "visibility": null,
            "width": null
          }
        },
        "387febedcf2e467fade83a92c46a60e5": {
          "model_module": "@jupyter-widgets/controls",
          "model_module_version": "1.5.0",
          "model_name": "FloatProgressModel",
          "state": {
            "_dom_classes": [],
            "_model_module": "@jupyter-widgets/controls",
            "_model_module_version": "1.5.0",
            "_model_name": "FloatProgressModel",
            "_view_count": null,
            "_view_module": "@jupyter-widgets/controls",
            "_view_module_version": "1.5.0",
            "_view_name": "ProgressView",
            "bar_style": "success",
            "description": "",
            "description_tooltip": null,
            "layout": "IPY_MODEL_1b4648bd59944e0c917b9fcb914c22c2",
            "max": 14041,
            "min": 0,
            "orientation": "horizontal",
            "style": "IPY_MODEL_62c36ad83d50450fb6aee603e219ad18",
            "value": 14041
          }
        },
        "3942a82cf5ec4d579642e779582caf0b": {
          "model_module": "@jupyter-widgets/base",
          "model_module_version": "1.2.0",
          "model_name": "LayoutModel",
          "state": {
            "_model_module": "@jupyter-widgets/base",
            "_model_module_version": "1.2.0",
            "_model_name": "LayoutModel",
            "_view_count": null,
            "_view_module": "@jupyter-widgets/base",
            "_view_module_version": "1.2.0",
            "_view_name": "LayoutView",
            "align_content": null,
            "align_items": null,
            "align_self": null,
            "border": null,
            "bottom": null,
            "display": null,
            "flex": null,
            "flex_flow": null,
            "grid_area": null,
            "grid_auto_columns": null,
            "grid_auto_flow": null,
            "grid_auto_rows": null,
            "grid_column": null,
            "grid_gap": null,
            "grid_row": null,
            "grid_template_areas": null,
            "grid_template_columns": null,
            "grid_template_rows": null,
            "height": null,
            "justify_content": null,
            "justify_items": null,
            "left": null,
            "margin": null,
            "max_height": null,
            "max_width": null,
            "min_height": null,
            "min_width": null,
            "object_fit": null,
            "object_position": null,
            "order": null,
            "overflow": null,
            "overflow_x": null,
            "overflow_y": null,
            "padding": null,
            "right": null,
            "top": null,
            "visibility": null,
            "width": null
          }
        },
        "394d467d87ba4b01b8ea2607c3e1b871": {
          "model_module": "@jupyter-widgets/controls",
          "model_module_version": "1.5.0",
          "model_name": "HTMLModel",
          "state": {
            "_dom_classes": [],
            "_model_module": "@jupyter-widgets/controls",
            "_model_module_version": "1.5.0",
            "_model_name": "HTMLModel",
            "_view_count": null,
            "_view_module": "@jupyter-widgets/controls",
            "_view_module_version": "1.5.0",
            "_view_name": "HTMLView",
            "description": "",
            "description_tooltip": null,
            "layout": "IPY_MODEL_9cb393fccbc14df099d60045a41186ea",
            "placeholder": "​",
            "style": "IPY_MODEL_dc55d45a342d48efb1d65566e22953ba",
            "value": "Flattening the indices: 100%"
          }
        },
        "3fd8c040d68f44f38ce810fe9307f895": {
          "model_module": "@jupyter-widgets/base",
          "model_module_version": "1.2.0",
          "model_name": "LayoutModel",
          "state": {
            "_model_module": "@jupyter-widgets/base",
            "_model_module_version": "1.2.0",
            "_model_name": "LayoutModel",
            "_view_count": null,
            "_view_module": "@jupyter-widgets/base",
            "_view_module_version": "1.2.0",
            "_view_name": "LayoutView",
            "align_content": null,
            "align_items": null,
            "align_self": null,
            "border": null,
            "bottom": null,
            "display": null,
            "flex": null,
            "flex_flow": null,
            "grid_area": null,
            "grid_auto_columns": null,
            "grid_auto_flow": null,
            "grid_auto_rows": null,
            "grid_column": null,
            "grid_gap": null,
            "grid_row": null,
            "grid_template_areas": null,
            "grid_template_columns": null,
            "grid_template_rows": null,
            "height": null,
            "justify_content": null,
            "justify_items": null,
            "left": null,
            "margin": null,
            "max_height": null,
            "max_width": null,
            "min_height": null,
            "min_width": null,
            "object_fit": null,
            "object_position": null,
            "order": null,
            "overflow": null,
            "overflow_x": null,
            "overflow_y": null,
            "padding": null,
            "right": null,
            "top": null,
            "visibility": null,
            "width": null
          }
        },
        "42baee9f68dc42fb9b9119c47d27e1aa": {
          "model_module": "@jupyter-widgets/controls",
          "model_module_version": "1.5.0",
          "model_name": "DescriptionStyleModel",
          "state": {
            "_model_module": "@jupyter-widgets/controls",
            "_model_module_version": "1.5.0",
            "_model_name": "DescriptionStyleModel",
            "_view_count": null,
            "_view_module": "@jupyter-widgets/base",
            "_view_module_version": "1.2.0",
            "_view_name": "StyleView",
            "description_width": ""
          }
        },
        "4467391c676c46fca9629f65ad965cd1": {
          "model_module": "@jupyter-widgets/controls",
          "model_module_version": "1.5.0",
          "model_name": "HBoxModel",
          "state": {
            "_dom_classes": [],
            "_model_module": "@jupyter-widgets/controls",
            "_model_module_version": "1.5.0",
            "_model_name": "HBoxModel",
            "_view_count": null,
            "_view_module": "@jupyter-widgets/controls",
            "_view_module_version": "1.5.0",
            "_view_name": "HBoxView",
            "box_style": "",
            "children": [
              "IPY_MODEL_c3e1ee2f9e204f0dad6149721e5354f7",
              "IPY_MODEL_21704453b88d44f8920327262be3f69b",
              "IPY_MODEL_04cf0b3196754308b70d6c28fa2dd4ff"
            ],
            "layout": "IPY_MODEL_4c10bc423b764e23ab1431b666839b5d"
          }
        },
        "47ca6d1704b64f7da4a073032a83fb6f": {
          "model_module": "@jupyter-widgets/controls",
          "model_module_version": "1.5.0",
          "model_name": "ProgressStyleModel",
          "state": {
            "_model_module": "@jupyter-widgets/controls",
            "_model_module_version": "1.5.0",
            "_model_name": "ProgressStyleModel",
            "_view_count": null,
            "_view_module": "@jupyter-widgets/base",
            "_view_module_version": "1.2.0",
            "_view_name": "StyleView",
            "bar_color": null,
            "description_width": ""
          }
        },
        "490165512cd64c07bd367931d48bb73e": {
          "model_module": "@jupyter-widgets/controls",
          "model_module_version": "1.5.0",
          "model_name": "ProgressStyleModel",
          "state": {
            "_model_module": "@jupyter-widgets/controls",
            "_model_module_version": "1.5.0",
            "_model_name": "ProgressStyleModel",
            "_view_count": null,
            "_view_module": "@jupyter-widgets/base",
            "_view_module_version": "1.2.0",
            "_view_name": "StyleView",
            "bar_color": null,
            "description_width": ""
          }
        },
        "4929b5c7b75144409951541b70bce636": {
          "model_module": "@jupyter-widgets/controls",
          "model_module_version": "1.5.0",
          "model_name": "DescriptionStyleModel",
          "state": {
            "_model_module": "@jupyter-widgets/controls",
            "_model_module_version": "1.5.0",
            "_model_name": "DescriptionStyleModel",
            "_view_count": null,
            "_view_module": "@jupyter-widgets/base",
            "_view_module_version": "1.2.0",
            "_view_name": "StyleView",
            "description_width": ""
          }
        },
        "49322c2d5560424890d4d481a19a95c0": {
          "model_module": "@jupyter-widgets/base",
          "model_module_version": "1.2.0",
          "model_name": "LayoutModel",
          "state": {
            "_model_module": "@jupyter-widgets/base",
            "_model_module_version": "1.2.0",
            "_model_name": "LayoutModel",
            "_view_count": null,
            "_view_module": "@jupyter-widgets/base",
            "_view_module_version": "1.2.0",
            "_view_name": "LayoutView",
            "align_content": null,
            "align_items": null,
            "align_self": null,
            "border": null,
            "bottom": null,
            "display": null,
            "flex": null,
            "flex_flow": null,
            "grid_area": null,
            "grid_auto_columns": null,
            "grid_auto_flow": null,
            "grid_auto_rows": null,
            "grid_column": null,
            "grid_gap": null,
            "grid_row": null,
            "grid_template_areas": null,
            "grid_template_columns": null,
            "grid_template_rows": null,
            "height": null,
            "justify_content": null,
            "justify_items": null,
            "left": null,
            "margin": null,
            "max_height": null,
            "max_width": null,
            "min_height": null,
            "min_width": null,
            "object_fit": null,
            "object_position": null,
            "order": null,
            "overflow": null,
            "overflow_x": null,
            "overflow_y": null,
            "padding": null,
            "right": null,
            "top": null,
            "visibility": null,
            "width": null
          }
        },
        "4c074641f9fb4c50b62a8f1a93c5ed91": {
          "model_module": "@jupyter-widgets/controls",
          "model_module_version": "1.5.0",
          "model_name": "HTMLModel",
          "state": {
            "_dom_classes": [],
            "_model_module": "@jupyter-widgets/controls",
            "_model_module_version": "1.5.0",
            "_model_name": "HTMLModel",
            "_view_count": null,
            "_view_module": "@jupyter-widgets/controls",
            "_view_module_version": "1.5.0",
            "_view_name": "HTMLView",
            "description": "",
            "description_tooltip": null,
            "layout": "IPY_MODEL_fbe06a40d1a340efa74a690f9456a45c",
            "placeholder": "​",
            "style": "IPY_MODEL_df1771595ae541cb8d83cfe0ebbcaab3",
            "value": " 14041/14041 [00:00&lt;00:00, 20374.15 examples/s]"
          }
        },
        "4c10bc423b764e23ab1431b666839b5d": {
          "model_module": "@jupyter-widgets/base",
          "model_module_version": "1.2.0",
          "model_name": "LayoutModel",
          "state": {
            "_model_module": "@jupyter-widgets/base",
            "_model_module_version": "1.2.0",
            "_model_name": "LayoutModel",
            "_view_count": null,
            "_view_module": "@jupyter-widgets/base",
            "_view_module_version": "1.2.0",
            "_view_name": "LayoutView",
            "align_content": null,
            "align_items": null,
            "align_self": null,
            "border": null,
            "bottom": null,
            "display": null,
            "flex": null,
            "flex_flow": null,
            "grid_area": null,
            "grid_auto_columns": null,
            "grid_auto_flow": null,
            "grid_auto_rows": null,
            "grid_column": null,
            "grid_gap": null,
            "grid_row": null,
            "grid_template_areas": null,
            "grid_template_columns": null,
            "grid_template_rows": null,
            "height": null,
            "justify_content": null,
            "justify_items": null,
            "left": null,
            "margin": null,
            "max_height": null,
            "max_width": null,
            "min_height": null,
            "min_width": null,
            "object_fit": null,
            "object_position": null,
            "order": null,
            "overflow": null,
            "overflow_x": null,
            "overflow_y": null,
            "padding": null,
            "right": null,
            "top": null,
            "visibility": null,
            "width": null
          }
        },
        "4c65642c62a14e40b8ab2a296acf2f42": {
          "model_module": "@jupyter-widgets/controls",
          "model_module_version": "1.5.0",
          "model_name": "FloatProgressModel",
          "state": {
            "_dom_classes": [],
            "_model_module": "@jupyter-widgets/controls",
            "_model_module_version": "1.5.0",
            "_model_name": "FloatProgressModel",
            "_view_count": null,
            "_view_module": "@jupyter-widgets/controls",
            "_view_module_version": "1.5.0",
            "_view_name": "ProgressView",
            "bar_style": "success",
            "description": "",
            "description_tooltip": null,
            "layout": "IPY_MODEL_79a90c919ad84820939a386231d0f77b",
            "max": 9570,
            "min": 0,
            "orientation": "horizontal",
            "style": "IPY_MODEL_aac51be3c3e443da8571d01e214e45e9",
            "value": 9570
          }
        },
        "4d451dc9a70447c08487d233100f6429": {
          "model_module": "@jupyter-widgets/controls",
          "model_module_version": "1.5.0",
          "model_name": "DescriptionStyleModel",
          "state": {
            "_model_module": "@jupyter-widgets/controls",
            "_model_module_version": "1.5.0",
            "_model_name": "DescriptionStyleModel",
            "_view_count": null,
            "_view_module": "@jupyter-widgets/base",
            "_view_module_version": "1.2.0",
            "_view_name": "StyleView",
            "description_width": ""
          }
        },
        "4dcef331fb4148b7bcda4b794f8ac8d4": {
          "model_module": "@jupyter-widgets/controls",
          "model_module_version": "1.5.0",
          "model_name": "DescriptionStyleModel",
          "state": {
            "_model_module": "@jupyter-widgets/controls",
            "_model_module_version": "1.5.0",
            "_model_name": "DescriptionStyleModel",
            "_view_count": null,
            "_view_module": "@jupyter-widgets/base",
            "_view_module_version": "1.2.0",
            "_view_name": "StyleView",
            "description_width": ""
          }
        },
        "4e7a61e1158b4856bd2d47674109d306": {
          "model_module": "@jupyter-widgets/base",
          "model_module_version": "1.2.0",
          "model_name": "LayoutModel",
          "state": {
            "_model_module": "@jupyter-widgets/base",
            "_model_module_version": "1.2.0",
            "_model_name": "LayoutModel",
            "_view_count": null,
            "_view_module": "@jupyter-widgets/base",
            "_view_module_version": "1.2.0",
            "_view_name": "LayoutView",
            "align_content": null,
            "align_items": null,
            "align_self": null,
            "border": null,
            "bottom": null,
            "display": null,
            "flex": null,
            "flex_flow": null,
            "grid_area": null,
            "grid_auto_columns": null,
            "grid_auto_flow": null,
            "grid_auto_rows": null,
            "grid_column": null,
            "grid_gap": null,
            "grid_row": null,
            "grid_template_areas": null,
            "grid_template_columns": null,
            "grid_template_rows": null,
            "height": null,
            "justify_content": null,
            "justify_items": null,
            "left": null,
            "margin": null,
            "max_height": null,
            "max_width": null,
            "min_height": null,
            "min_width": null,
            "object_fit": null,
            "object_position": null,
            "order": null,
            "overflow": null,
            "overflow_x": null,
            "overflow_y": null,
            "padding": null,
            "right": null,
            "top": null,
            "visibility": null,
            "width": null
          }
        },
        "5186f28068a34a878fdf898b1a45afdc": {
          "model_module": "@jupyter-widgets/controls",
          "model_module_version": "1.5.0",
          "model_name": "HTMLModel",
          "state": {
            "_dom_classes": [],
            "_model_module": "@jupyter-widgets/controls",
            "_model_module_version": "1.5.0",
            "_model_name": "HTMLModel",
            "_view_count": null,
            "_view_module": "@jupyter-widgets/controls",
            "_view_module_version": "1.5.0",
            "_view_name": "HTMLView",
            "description": "",
            "description_tooltip": null,
            "layout": "IPY_MODEL_dafc0922330e403080bbb01556d94729",
            "placeholder": "​",
            "style": "IPY_MODEL_4dcef331fb4148b7bcda4b794f8ac8d4",
            "value": " 12.3k/12.3k [00:00&lt;00:00, 157kB/s]"
          }
        },
        "519c4171aa104223806b40659a270f3c": {
          "model_module": "@jupyter-widgets/base",
          "model_module_version": "1.2.0",
          "model_name": "LayoutModel",
          "state": {
            "_model_module": "@jupyter-widgets/base",
            "_model_module_version": "1.2.0",
            "_model_name": "LayoutModel",
            "_view_count": null,
            "_view_module": "@jupyter-widgets/base",
            "_view_module_version": "1.2.0",
            "_view_name": "LayoutView",
            "align_content": null,
            "align_items": null,
            "align_self": null,
            "border": null,
            "bottom": null,
            "display": null,
            "flex": null,
            "flex_flow": null,
            "grid_area": null,
            "grid_auto_columns": null,
            "grid_auto_flow": null,
            "grid_auto_rows": null,
            "grid_column": null,
            "grid_gap": null,
            "grid_row": null,
            "grid_template_areas": null,
            "grid_template_columns": null,
            "grid_template_rows": null,
            "height": null,
            "justify_content": null,
            "justify_items": null,
            "left": null,
            "margin": null,
            "max_height": null,
            "max_width": null,
            "min_height": null,
            "min_width": null,
            "object_fit": null,
            "object_position": null,
            "order": null,
            "overflow": null,
            "overflow_x": null,
            "overflow_y": null,
            "padding": null,
            "right": null,
            "top": null,
            "visibility": null,
            "width": null
          }
        },
        "532e2ecc4797447eb1392c2eaf8f3e54": {
          "model_module": "@jupyter-widgets/controls",
          "model_module_version": "1.5.0",
          "model_name": "DescriptionStyleModel",
          "state": {
            "_model_module": "@jupyter-widgets/controls",
            "_model_module_version": "1.5.0",
            "_model_name": "DescriptionStyleModel",
            "_view_count": null,
            "_view_module": "@jupyter-widgets/base",
            "_view_module_version": "1.2.0",
            "_view_name": "StyleView",
            "description_width": ""
          }
        },
        "56fe55afe6094de6ae3d6a1235917877": {
          "model_module": "@jupyter-widgets/base",
          "model_module_version": "1.2.0",
          "model_name": "LayoutModel",
          "state": {
            "_model_module": "@jupyter-widgets/base",
            "_model_module_version": "1.2.0",
            "_model_name": "LayoutModel",
            "_view_count": null,
            "_view_module": "@jupyter-widgets/base",
            "_view_module_version": "1.2.0",
            "_view_name": "LayoutView",
            "align_content": null,
            "align_items": null,
            "align_self": null,
            "border": null,
            "bottom": null,
            "display": null,
            "flex": null,
            "flex_flow": null,
            "grid_area": null,
            "grid_auto_columns": null,
            "grid_auto_flow": null,
            "grid_auto_rows": null,
            "grid_column": null,
            "grid_gap": null,
            "grid_row": null,
            "grid_template_areas": null,
            "grid_template_columns": null,
            "grid_template_rows": null,
            "height": null,
            "justify_content": null,
            "justify_items": null,
            "left": null,
            "margin": null,
            "max_height": null,
            "max_width": null,
            "min_height": null,
            "min_width": null,
            "object_fit": null,
            "object_position": null,
            "order": null,
            "overflow": null,
            "overflow_x": null,
            "overflow_y": null,
            "padding": null,
            "right": null,
            "top": null,
            "visibility": null,
            "width": null
          }
        },
        "5cf9928816054360a415a6a6047a5af9": {
          "model_module": "@jupyter-widgets/controls",
          "model_module_version": "1.5.0",
          "model_name": "HTMLModel",
          "state": {
            "_dom_classes": [],
            "_model_module": "@jupyter-widgets/controls",
            "_model_module_version": "1.5.0",
            "_model_name": "HTMLModel",
            "_view_count": null,
            "_view_module": "@jupyter-widgets/controls",
            "_view_module_version": "1.5.0",
            "_view_name": "HTMLView",
            "description": "",
            "description_tooltip": null,
            "layout": "IPY_MODEL_af3477e3b6f6461e9a6c3f5dfce6a54e",
            "placeholder": "​",
            "style": "IPY_MODEL_9b7885343e8544fc9273ec21e0a070e8",
            "value": "Generating train split: 100%"
          }
        },
        "5d2380a6aab343a6b202f8cee1b61c95": {
          "model_module": "@jupyter-widgets/controls",
          "model_module_version": "1.5.0",
          "model_name": "FloatProgressModel",
          "state": {
            "_dom_classes": [],
            "_model_module": "@jupyter-widgets/controls",
            "_model_module_version": "1.5.0",
            "_model_name": "FloatProgressModel",
            "_view_count": null,
            "_view_module": "@jupyter-widgets/controls",
            "_view_module_version": "1.5.0",
            "_view_name": "ProgressView",
            "bar_style": "success",
            "description": "",
            "description_tooltip": null,
            "layout": "IPY_MODEL_8af56d3a777548be80adc10812421641",
            "max": 20,
            "min": 0,
            "orientation": "horizontal",
            "style": "IPY_MODEL_f1e702f29e8f41ebb941799a1fceabeb",
            "value": 20
          }
        },
        "5d5eb7a6e92f441aa65742865f1acb65": {
          "model_module": "@jupyter-widgets/controls",
          "model_module_version": "1.5.0",
          "model_name": "ProgressStyleModel",
          "state": {
            "_model_module": "@jupyter-widgets/controls",
            "_model_module_version": "1.5.0",
            "_model_name": "ProgressStyleModel",
            "_view_count": null,
            "_view_module": "@jupyter-widgets/base",
            "_view_module_version": "1.2.0",
            "_view_name": "StyleView",
            "bar_color": null,
            "description_width": ""
          }
        },
        "5dde54ce2cf04c7583e7e4fb6b9539b7": {
          "model_module": "@jupyter-widgets/controls",
          "model_module_version": "1.5.0",
          "model_name": "DescriptionStyleModel",
          "state": {
            "_model_module": "@jupyter-widgets/controls",
            "_model_module_version": "1.5.0",
            "_model_name": "DescriptionStyleModel",
            "_view_count": null,
            "_view_module": "@jupyter-widgets/base",
            "_view_module_version": "1.2.0",
            "_view_name": "StyleView",
            "description_width": ""
          }
        },
        "62c36ad83d50450fb6aee603e219ad18": {
          "model_module": "@jupyter-widgets/controls",
          "model_module_version": "1.5.0",
          "model_name": "ProgressStyleModel",
          "state": {
            "_model_module": "@jupyter-widgets/controls",
            "_model_module_version": "1.5.0",
            "_model_name": "ProgressStyleModel",
            "_view_count": null,
            "_view_module": "@jupyter-widgets/base",
            "_view_module_version": "1.2.0",
            "_view_name": "StyleView",
            "bar_color": null,
            "description_width": ""
          }
        },
        "66e10304117e4397935c893e2f45217b": {
          "model_module": "@jupyter-widgets/controls",
          "model_module_version": "1.5.0",
          "model_name": "DescriptionStyleModel",
          "state": {
            "_model_module": "@jupyter-widgets/controls",
            "_model_module_version": "1.5.0",
            "_model_name": "DescriptionStyleModel",
            "_view_count": null,
            "_view_module": "@jupyter-widgets/base",
            "_view_module_version": "1.2.0",
            "_view_name": "StyleView",
            "description_width": ""
          }
        },
        "68ff3fc375ef45b8ae25135cb478bc6f": {
          "model_module": "@jupyter-widgets/controls",
          "model_module_version": "1.5.0",
          "model_name": "HTMLModel",
          "state": {
            "_dom_classes": [],
            "_model_module": "@jupyter-widgets/controls",
            "_model_module_version": "1.5.0",
            "_model_name": "HTMLModel",
            "_view_count": null,
            "_view_module": "@jupyter-widgets/controls",
            "_view_module_version": "1.5.0",
            "_view_name": "HTMLView",
            "description": "",
            "description_tooltip": null,
            "layout": "IPY_MODEL_ff2e000969bd400cb2314b706c9cc9e0",
            "placeholder": "​",
            "style": "IPY_MODEL_0817f8a0099742e48a49b17f73cfb3fa",
            "value": " 9.57k/9.57k [00:00&lt;00:00, 210kB/s]"
          }
        },
        "695ccca46ea74545be464f15d0742b9f": {
          "model_module": "@jupyter-widgets/base",
          "model_module_version": "1.2.0",
          "model_name": "LayoutModel",
          "state": {
            "_model_module": "@jupyter-widgets/base",
            "_model_module_version": "1.2.0",
            "_model_name": "LayoutModel",
            "_view_count": null,
            "_view_module": "@jupyter-widgets/base",
            "_view_module_version": "1.2.0",
            "_view_name": "LayoutView",
            "align_content": null,
            "align_items": null,
            "align_self": null,
            "border": null,
            "bottom": null,
            "display": null,
            "flex": null,
            "flex_flow": null,
            "grid_area": null,
            "grid_auto_columns": null,
            "grid_auto_flow": null,
            "grid_auto_rows": null,
            "grid_column": null,
            "grid_gap": null,
            "grid_row": null,
            "grid_template_areas": null,
            "grid_template_columns": null,
            "grid_template_rows": null,
            "height": null,
            "justify_content": null,
            "justify_items": null,
            "left": null,
            "margin": null,
            "max_height": null,
            "max_width": null,
            "min_height": null,
            "min_width": null,
            "object_fit": null,
            "object_position": null,
            "order": null,
            "overflow": null,
            "overflow_x": null,
            "overflow_y": null,
            "padding": null,
            "right": null,
            "top": null,
            "visibility": null,
            "width": null
          }
        },
        "75837bc4a5a74404847cb6c71d55e14a": {
          "model_module": "@jupyter-widgets/controls",
          "model_module_version": "1.5.0",
          "model_name": "HBoxModel",
          "state": {
            "_dom_classes": [],
            "_model_module": "@jupyter-widgets/controls",
            "_model_module_version": "1.5.0",
            "_model_name": "HBoxModel",
            "_view_count": null,
            "_view_module": "@jupyter-widgets/controls",
            "_view_module_version": "1.5.0",
            "_view_name": "HBoxView",
            "box_style": "",
            "children": [
              "IPY_MODEL_04cd5bac57ad49f58842ee2dee25146c",
              "IPY_MODEL_a360e483d3bb4d17bf6476e1e80c4fd3",
              "IPY_MODEL_5186f28068a34a878fdf898b1a45afdc"
            ],
            "layout": "IPY_MODEL_8e8a283de2eb42af854d0775273b5edc"
          }
        },
        "79a90c919ad84820939a386231d0f77b": {
          "model_module": "@jupyter-widgets/base",
          "model_module_version": "1.2.0",
          "model_name": "LayoutModel",
          "state": {
            "_model_module": "@jupyter-widgets/base",
            "_model_module_version": "1.2.0",
            "_model_name": "LayoutModel",
            "_view_count": null,
            "_view_module": "@jupyter-widgets/base",
            "_view_module_version": "1.2.0",
            "_view_name": "LayoutView",
            "align_content": null,
            "align_items": null,
            "align_self": null,
            "border": null,
            "bottom": null,
            "display": null,
            "flex": null,
            "flex_flow": null,
            "grid_area": null,
            "grid_auto_columns": null,
            "grid_auto_flow": null,
            "grid_auto_rows": null,
            "grid_column": null,
            "grid_gap": null,
            "grid_row": null,
            "grid_template_areas": null,
            "grid_template_columns": null,
            "grid_template_rows": null,
            "height": null,
            "justify_content": null,
            "justify_items": null,
            "left": null,
            "margin": null,
            "max_height": null,
            "max_width": null,
            "min_height": null,
            "min_width": null,
            "object_fit": null,
            "object_position": null,
            "order": null,
            "overflow": null,
            "overflow_x": null,
            "overflow_y": null,
            "padding": null,
            "right": null,
            "top": null,
            "visibility": null,
            "width": null
          }
        },
        "7e51e1c788f34a5b9359bb839e585f95": {
          "model_module": "@jupyter-widgets/base",
          "model_module_version": "1.2.0",
          "model_name": "LayoutModel",
          "state": {
            "_model_module": "@jupyter-widgets/base",
            "_model_module_version": "1.2.0",
            "_model_name": "LayoutModel",
            "_view_count": null,
            "_view_module": "@jupyter-widgets/base",
            "_view_module_version": "1.2.0",
            "_view_name": "LayoutView",
            "align_content": null,
            "align_items": null,
            "align_self": null,
            "border": null,
            "bottom": null,
            "display": null,
            "flex": null,
            "flex_flow": null,
            "grid_area": null,
            "grid_auto_columns": null,
            "grid_auto_flow": null,
            "grid_auto_rows": null,
            "grid_column": null,
            "grid_gap": null,
            "grid_row": null,
            "grid_template_areas": null,
            "grid_template_columns": null,
            "grid_template_rows": null,
            "height": null,
            "justify_content": null,
            "justify_items": null,
            "left": null,
            "margin": null,
            "max_height": null,
            "max_width": null,
            "min_height": null,
            "min_width": null,
            "object_fit": null,
            "object_position": null,
            "order": null,
            "overflow": null,
            "overflow_x": null,
            "overflow_y": null,
            "padding": null,
            "right": null,
            "top": null,
            "visibility": null,
            "width": null
          }
        },
        "814ceddbfab947a182a6ae784b004520": {
          "model_module": "@jupyter-widgets/controls",
          "model_module_version": "1.5.0",
          "model_name": "DescriptionStyleModel",
          "state": {
            "_model_module": "@jupyter-widgets/controls",
            "_model_module_version": "1.5.0",
            "_model_name": "DescriptionStyleModel",
            "_view_count": null,
            "_view_module": "@jupyter-widgets/base",
            "_view_module_version": "1.2.0",
            "_view_name": "StyleView",
            "description_width": ""
          }
        },
        "8a4d9303b32a4f3ab575b19ba8eedee2": {
          "model_module": "@jupyter-widgets/controls",
          "model_module_version": "1.5.0",
          "model_name": "DescriptionStyleModel",
          "state": {
            "_model_module": "@jupyter-widgets/controls",
            "_model_module_version": "1.5.0",
            "_model_name": "DescriptionStyleModel",
            "_view_count": null,
            "_view_module": "@jupyter-widgets/base",
            "_view_module_version": "1.2.0",
            "_view_name": "StyleView",
            "description_width": ""
          }
        },
        "8af56d3a777548be80adc10812421641": {
          "model_module": "@jupyter-widgets/base",
          "model_module_version": "1.2.0",
          "model_name": "LayoutModel",
          "state": {
            "_model_module": "@jupyter-widgets/base",
            "_model_module_version": "1.2.0",
            "_model_name": "LayoutModel",
            "_view_count": null,
            "_view_module": "@jupyter-widgets/base",
            "_view_module_version": "1.2.0",
            "_view_name": "LayoutView",
            "align_content": null,
            "align_items": null,
            "align_self": null,
            "border": null,
            "bottom": null,
            "display": null,
            "flex": null,
            "flex_flow": null,
            "grid_area": null,
            "grid_auto_columns": null,
            "grid_auto_flow": null,
            "grid_auto_rows": null,
            "grid_column": null,
            "grid_gap": null,
            "grid_row": null,
            "grid_template_areas": null,
            "grid_template_columns": null,
            "grid_template_rows": null,
            "height": null,
            "justify_content": null,
            "justify_items": null,
            "left": null,
            "margin": null,
            "max_height": null,
            "max_width": null,
            "min_height": null,
            "min_width": null,
            "object_fit": null,
            "object_position": null,
            "order": null,
            "overflow": null,
            "overflow_x": null,
            "overflow_y": null,
            "padding": null,
            "right": null,
            "top": null,
            "visibility": null,
            "width": null
          }
        },
        "8d247327d1fc4c90a6977781803c9698": {
          "model_module": "@jupyter-widgets/controls",
          "model_module_version": "1.5.0",
          "model_name": "HBoxModel",
          "state": {
            "_dom_classes": [],
            "_model_module": "@jupyter-widgets/controls",
            "_model_module_version": "1.5.0",
            "_model_name": "HBoxModel",
            "_view_count": null,
            "_view_module": "@jupyter-widgets/controls",
            "_view_module_version": "1.5.0",
            "_view_name": "HBoxView",
            "box_style": "",
            "children": [
              "IPY_MODEL_fa480258c772478395ce4868c42dc623",
              "IPY_MODEL_e4a822d973934e63b59b25c131e99c7c",
              "IPY_MODEL_244f578fe3d949d1b9481c761b95be9a"
            ],
            "layout": "IPY_MODEL_3942a82cf5ec4d579642e779582caf0b"
          }
        },
        "8e8a283de2eb42af854d0775273b5edc": {
          "model_module": "@jupyter-widgets/base",
          "model_module_version": "1.2.0",
          "model_name": "LayoutModel",
          "state": {
            "_model_module": "@jupyter-widgets/base",
            "_model_module_version": "1.2.0",
            "_model_name": "LayoutModel",
            "_view_count": null,
            "_view_module": "@jupyter-widgets/base",
            "_view_module_version": "1.2.0",
            "_view_name": "LayoutView",
            "align_content": null,
            "align_items": null,
            "align_self": null,
            "border": null,
            "bottom": null,
            "display": null,
            "flex": null,
            "flex_flow": null,
            "grid_area": null,
            "grid_auto_columns": null,
            "grid_auto_flow": null,
            "grid_auto_rows": null,
            "grid_column": null,
            "grid_gap": null,
            "grid_row": null,
            "grid_template_areas": null,
            "grid_template_columns": null,
            "grid_template_rows": null,
            "height": null,
            "justify_content": null,
            "justify_items": null,
            "left": null,
            "margin": null,
            "max_height": null,
            "max_width": null,
            "min_height": null,
            "min_width": null,
            "object_fit": null,
            "object_position": null,
            "order": null,
            "overflow": null,
            "overflow_x": null,
            "overflow_y": null,
            "padding": null,
            "right": null,
            "top": null,
            "visibility": null,
            "width": null
          }
        },
        "90e6714fb8284bc7a00e288a2c2107aa": {
          "model_module": "@jupyter-widgets/base",
          "model_module_version": "1.2.0",
          "model_name": "LayoutModel",
          "state": {
            "_model_module": "@jupyter-widgets/base",
            "_model_module_version": "1.2.0",
            "_model_name": "LayoutModel",
            "_view_count": null,
            "_view_module": "@jupyter-widgets/base",
            "_view_module_version": "1.2.0",
            "_view_name": "LayoutView",
            "align_content": null,
            "align_items": null,
            "align_self": null,
            "border": null,
            "bottom": null,
            "display": null,
            "flex": null,
            "flex_flow": null,
            "grid_area": null,
            "grid_auto_columns": null,
            "grid_auto_flow": null,
            "grid_auto_rows": null,
            "grid_column": null,
            "grid_gap": null,
            "grid_row": null,
            "grid_template_areas": null,
            "grid_template_columns": null,
            "grid_template_rows": null,
            "height": null,
            "justify_content": null,
            "justify_items": null,
            "left": null,
            "margin": null,
            "max_height": null,
            "max_width": null,
            "min_height": null,
            "min_width": null,
            "object_fit": null,
            "object_position": null,
            "order": null,
            "overflow": null,
            "overflow_x": null,
            "overflow_y": null,
            "padding": null,
            "right": null,
            "top": null,
            "visibility": null,
            "width": null
          }
        },
        "92385dfeebfa491dbf4301649b4d5fee": {
          "model_module": "@jupyter-widgets/controls",
          "model_module_version": "1.5.0",
          "model_name": "HBoxModel",
          "state": {
            "_dom_classes": [],
            "_model_module": "@jupyter-widgets/controls",
            "_model_module_version": "1.5.0",
            "_model_name": "HBoxModel",
            "_view_count": null,
            "_view_module": "@jupyter-widgets/controls",
            "_view_module_version": "1.5.0",
            "_view_name": "HBoxView",
            "box_style": "",
            "children": [
              "IPY_MODEL_da529135f023413f977c7c61a1bb3201",
              "IPY_MODEL_9a70aeef1912466ca4d7ba1b004298d9",
              "IPY_MODEL_b5ddf9faff4d4b3b87f908db72923c43"
            ],
            "layout": "IPY_MODEL_c2e76836db9a4668b31d3e1f4c6d7269"
          }
        },
        "9a70aeef1912466ca4d7ba1b004298d9": {
          "model_module": "@jupyter-widgets/controls",
          "model_module_version": "1.5.0",
          "model_name": "FloatProgressModel",
          "state": {
            "_dom_classes": [],
            "_model_module": "@jupyter-widgets/controls",
            "_model_module_version": "1.5.0",
            "_model_name": "FloatProgressModel",
            "_view_count": null,
            "_view_module": "@jupyter-widgets/controls",
            "_view_module_version": "1.5.0",
            "_view_name": "ProgressView",
            "bar_style": "success",
            "description": "",
            "description_tooltip": null,
            "layout": "IPY_MODEL_3753c4f3fdc84119bd3325ef0cb8eee3",
            "max": 3250,
            "min": 0,
            "orientation": "horizontal",
            "style": "IPY_MODEL_116f33b0848e4fda88fe2f72e712a6a2",
            "value": 3250
          }
        },
        "9b7885343e8544fc9273ec21e0a070e8": {
          "model_module": "@jupyter-widgets/controls",
          "model_module_version": "1.5.0",
          "model_name": "DescriptionStyleModel",
          "state": {
            "_model_module": "@jupyter-widgets/controls",
            "_model_module_version": "1.5.0",
            "_model_name": "DescriptionStyleModel",
            "_view_count": null,
            "_view_module": "@jupyter-widgets/base",
            "_view_module_version": "1.2.0",
            "_view_name": "StyleView",
            "description_width": ""
          }
        },
        "9cb393fccbc14df099d60045a41186ea": {
          "model_module": "@jupyter-widgets/base",
          "model_module_version": "1.2.0",
          "model_name": "LayoutModel",
          "state": {
            "_model_module": "@jupyter-widgets/base",
            "_model_module_version": "1.2.0",
            "_model_name": "LayoutModel",
            "_view_count": null,
            "_view_module": "@jupyter-widgets/base",
            "_view_module_version": "1.2.0",
            "_view_name": "LayoutView",
            "align_content": null,
            "align_items": null,
            "align_self": null,
            "border": null,
            "bottom": null,
            "display": null,
            "flex": null,
            "flex_flow": null,
            "grid_area": null,
            "grid_auto_columns": null,
            "grid_auto_flow": null,
            "grid_auto_rows": null,
            "grid_column": null,
            "grid_gap": null,
            "grid_row": null,
            "grid_template_areas": null,
            "grid_template_columns": null,
            "grid_template_rows": null,
            "height": null,
            "justify_content": null,
            "justify_items": null,
            "left": null,
            "margin": null,
            "max_height": null,
            "max_width": null,
            "min_height": null,
            "min_width": null,
            "object_fit": null,
            "object_position": null,
            "order": null,
            "overflow": null,
            "overflow_x": null,
            "overflow_y": null,
            "padding": null,
            "right": null,
            "top": null,
            "visibility": null,
            "width": null
          }
        },
        "a0d33993eba74f0b8d601a042f3e66c1": {
          "model_module": "@jupyter-widgets/controls",
          "model_module_version": "1.5.0",
          "model_name": "DescriptionStyleModel",
          "state": {
            "_model_module": "@jupyter-widgets/controls",
            "_model_module_version": "1.5.0",
            "_model_name": "DescriptionStyleModel",
            "_view_count": null,
            "_view_module": "@jupyter-widgets/base",
            "_view_module_version": "1.2.0",
            "_view_name": "StyleView",
            "description_width": ""
          }
        },
        "a360e483d3bb4d17bf6476e1e80c4fd3": {
          "model_module": "@jupyter-widgets/controls",
          "model_module_version": "1.5.0",
          "model_name": "FloatProgressModel",
          "state": {
            "_dom_classes": [],
            "_model_module": "@jupyter-widgets/controls",
            "_model_module_version": "1.5.0",
            "_model_name": "FloatProgressModel",
            "_view_count": null,
            "_view_module": "@jupyter-widgets/controls",
            "_view_module_version": "1.5.0",
            "_view_name": "ProgressView",
            "bar_style": "success",
            "description": "",
            "description_tooltip": null,
            "layout": "IPY_MODEL_f5891e60257b43ee8dd3cec89d0a692e",
            "max": 12330,
            "min": 0,
            "orientation": "horizontal",
            "style": "IPY_MODEL_47ca6d1704b64f7da4a073032a83fb6f",
            "value": 12330
          }
        },
        "a8cf8f6552424dbdb9cdb852b34e0527": {
          "model_module": "@jupyter-widgets/base",
          "model_module_version": "1.2.0",
          "model_name": "LayoutModel",
          "state": {
            "_model_module": "@jupyter-widgets/base",
            "_model_module_version": "1.2.0",
            "_model_name": "LayoutModel",
            "_view_count": null,
            "_view_module": "@jupyter-widgets/base",
            "_view_module_version": "1.2.0",
            "_view_name": "LayoutView",
            "align_content": null,
            "align_items": null,
            "align_self": null,
            "border": null,
            "bottom": null,
            "display": null,
            "flex": null,
            "flex_flow": null,
            "grid_area": null,
            "grid_auto_columns": null,
            "grid_auto_flow": null,
            "grid_auto_rows": null,
            "grid_column": null,
            "grid_gap": null,
            "grid_row": null,
            "grid_template_areas": null,
            "grid_template_columns": null,
            "grid_template_rows": null,
            "height": null,
            "justify_content": null,
            "justify_items": null,
            "left": null,
            "margin": null,
            "max_height": null,
            "max_width": null,
            "min_height": null,
            "min_width": null,
            "object_fit": null,
            "object_position": null,
            "order": null,
            "overflow": null,
            "overflow_x": null,
            "overflow_y": null,
            "padding": null,
            "right": null,
            "top": null,
            "visibility": null,
            "width": null
          }
        },
        "a9c410e666744e95a85e45ed9cc3d5c0": {
          "model_module": "@jupyter-widgets/base",
          "model_module_version": "1.2.0",
          "model_name": "LayoutModel",
          "state": {
            "_model_module": "@jupyter-widgets/base",
            "_model_module_version": "1.2.0",
            "_model_name": "LayoutModel",
            "_view_count": null,
            "_view_module": "@jupyter-widgets/base",
            "_view_module_version": "1.2.0",
            "_view_name": "LayoutView",
            "align_content": null,
            "align_items": null,
            "align_self": null,
            "border": null,
            "bottom": null,
            "display": null,
            "flex": null,
            "flex_flow": null,
            "grid_area": null,
            "grid_auto_columns": null,
            "grid_auto_flow": null,
            "grid_auto_rows": null,
            "grid_column": null,
            "grid_gap": null,
            "grid_row": null,
            "grid_template_areas": null,
            "grid_template_columns": null,
            "grid_template_rows": null,
            "height": null,
            "justify_content": null,
            "justify_items": null,
            "left": null,
            "margin": null,
            "max_height": null,
            "max_width": null,
            "min_height": null,
            "min_width": null,
            "object_fit": null,
            "object_position": null,
            "order": null,
            "overflow": null,
            "overflow_x": null,
            "overflow_y": null,
            "padding": null,
            "right": null,
            "top": null,
            "visibility": null,
            "width": null
          }
        },
        "aac51be3c3e443da8571d01e214e45e9": {
          "model_module": "@jupyter-widgets/controls",
          "model_module_version": "1.5.0",
          "model_name": "ProgressStyleModel",
          "state": {
            "_model_module": "@jupyter-widgets/controls",
            "_model_module_version": "1.5.0",
            "_model_name": "ProgressStyleModel",
            "_view_count": null,
            "_view_module": "@jupyter-widgets/base",
            "_view_module_version": "1.2.0",
            "_view_name": "StyleView",
            "bar_color": null,
            "description_width": ""
          }
        },
        "af3477e3b6f6461e9a6c3f5dfce6a54e": {
          "model_module": "@jupyter-widgets/base",
          "model_module_version": "1.2.0",
          "model_name": "LayoutModel",
          "state": {
            "_model_module": "@jupyter-widgets/base",
            "_model_module_version": "1.2.0",
            "_model_name": "LayoutModel",
            "_view_count": null,
            "_view_module": "@jupyter-widgets/base",
            "_view_module_version": "1.2.0",
            "_view_name": "LayoutView",
            "align_content": null,
            "align_items": null,
            "align_self": null,
            "border": null,
            "bottom": null,
            "display": null,
            "flex": null,
            "flex_flow": null,
            "grid_area": null,
            "grid_auto_columns": null,
            "grid_auto_flow": null,
            "grid_auto_rows": null,
            "grid_column": null,
            "grid_gap": null,
            "grid_row": null,
            "grid_template_areas": null,
            "grid_template_columns": null,
            "grid_template_rows": null,
            "height": null,
            "justify_content": null,
            "justify_items": null,
            "left": null,
            "margin": null,
            "max_height": null,
            "max_width": null,
            "min_height": null,
            "min_width": null,
            "object_fit": null,
            "object_position": null,
            "order": null,
            "overflow": null,
            "overflow_x": null,
            "overflow_y": null,
            "padding": null,
            "right": null,
            "top": null,
            "visibility": null,
            "width": null
          }
        },
        "b3b2d7d8e12740e39664eda488b2997f": {
          "model_module": "@jupyter-widgets/base",
          "model_module_version": "1.2.0",
          "model_name": "LayoutModel",
          "state": {
            "_model_module": "@jupyter-widgets/base",
            "_model_module_version": "1.2.0",
            "_model_name": "LayoutModel",
            "_view_count": null,
            "_view_module": "@jupyter-widgets/base",
            "_view_module_version": "1.2.0",
            "_view_name": "LayoutView",
            "align_content": null,
            "align_items": null,
            "align_self": null,
            "border": null,
            "bottom": null,
            "display": null,
            "flex": null,
            "flex_flow": null,
            "grid_area": null,
            "grid_auto_columns": null,
            "grid_auto_flow": null,
            "grid_auto_rows": null,
            "grid_column": null,
            "grid_gap": null,
            "grid_row": null,
            "grid_template_areas": null,
            "grid_template_columns": null,
            "grid_template_rows": null,
            "height": null,
            "justify_content": null,
            "justify_items": null,
            "left": null,
            "margin": null,
            "max_height": null,
            "max_width": null,
            "min_height": null,
            "min_width": null,
            "object_fit": null,
            "object_position": null,
            "order": null,
            "overflow": null,
            "overflow_x": null,
            "overflow_y": null,
            "padding": null,
            "right": null,
            "top": null,
            "visibility": null,
            "width": null
          }
        },
        "b41306d475824c1c9124a1e133b496ce": {
          "model_module": "@jupyter-widgets/controls",
          "model_module_version": "1.5.0",
          "model_name": "HTMLModel",
          "state": {
            "_dom_classes": [],
            "_model_module": "@jupyter-widgets/controls",
            "_model_module_version": "1.5.0",
            "_model_name": "HTMLModel",
            "_view_count": null,
            "_view_module": "@jupyter-widgets/controls",
            "_view_module_version": "1.5.0",
            "_view_name": "HTMLView",
            "description": "",
            "description_tooltip": null,
            "layout": "IPY_MODEL_b3b2d7d8e12740e39664eda488b2997f",
            "placeholder": "​",
            "style": "IPY_MODEL_5dde54ce2cf04c7583e7e4fb6b9539b7",
            "value": " 3453/3453 [00:01&lt;00:00, 4606.71 examples/s]"
          }
        },
        "b561abde360a43f9b10b8204e06ccf05": {
          "model_module": "@jupyter-widgets/controls",
          "model_module_version": "1.5.0",
          "model_name": "HBoxModel",
          "state": {
            "_dom_classes": [],
            "_model_module": "@jupyter-widgets/controls",
            "_model_module_version": "1.5.0",
            "_model_name": "HBoxModel",
            "_view_count": null,
            "_view_module": "@jupyter-widgets/controls",
            "_view_module_version": "1.5.0",
            "_view_name": "HBoxView",
            "box_style": "",
            "children": [
              "IPY_MODEL_fe1382a3775e483193db769711e246f2",
              "IPY_MODEL_387febedcf2e467fade83a92c46a60e5",
              "IPY_MODEL_4c074641f9fb4c50b62a8f1a93c5ed91"
            ],
            "layout": "IPY_MODEL_c62efff1a97f4f58b084bb6bd38636d9"
          }
        },
        "b5ddf9faff4d4b3b87f908db72923c43": {
          "model_module": "@jupyter-widgets/controls",
          "model_module_version": "1.5.0",
          "model_name": "HTMLModel",
          "state": {
            "_dom_classes": [],
            "_model_module": "@jupyter-widgets/controls",
            "_model_module_version": "1.5.0",
            "_model_name": "HTMLModel",
            "_view_count": null,
            "_view_module": "@jupyter-widgets/controls",
            "_view_module_version": "1.5.0",
            "_view_name": "HTMLView",
            "description": "",
            "description_tooltip": null,
            "layout": "IPY_MODEL_7e51e1c788f34a5b9359bb839e585f95",
            "placeholder": "​",
            "style": "IPY_MODEL_4d451dc9a70447c08487d233100f6429",
            "value": " 3250/3250 [00:02&lt;00:00, 1522.87 examples/s]"
          }
        },
        "bda1cc672fb14e85936d52e7bfb45ef7": {
          "model_module": "@jupyter-widgets/controls",
          "model_module_version": "1.5.0",
          "model_name": "HTMLModel",
          "state": {
            "_dom_classes": [],
            "_model_module": "@jupyter-widgets/controls",
            "_model_module_version": "1.5.0",
            "_model_name": "HTMLModel",
            "_view_count": null,
            "_view_module": "@jupyter-widgets/controls",
            "_view_module_version": "1.5.0",
            "_view_name": "HTMLView",
            "description": "",
            "description_tooltip": null,
            "layout": "IPY_MODEL_695ccca46ea74545be464f15d0742b9f",
            "placeholder": "​",
            "style": "IPY_MODEL_0d64c25f95544ddb8686742362eb8f87",
            "value": "Downloading builder script: 100%"
          }
        },
        "c2e76836db9a4668b31d3e1f4c6d7269": {
          "model_module": "@jupyter-widgets/base",
          "model_module_version": "1.2.0",
          "model_name": "LayoutModel",
          "state": {
            "_model_module": "@jupyter-widgets/base",
            "_model_module_version": "1.2.0",
            "_model_name": "LayoutModel",
            "_view_count": null,
            "_view_module": "@jupyter-widgets/base",
            "_view_module_version": "1.2.0",
            "_view_name": "LayoutView",
            "align_content": null,
            "align_items": null,
            "align_self": null,
            "border": null,
            "bottom": null,
            "display": null,
            "flex": null,
            "flex_flow": null,
            "grid_area": null,
            "grid_auto_columns": null,
            "grid_auto_flow": null,
            "grid_auto_rows": null,
            "grid_column": null,
            "grid_gap": null,
            "grid_row": null,
            "grid_template_areas": null,
            "grid_template_columns": null,
            "grid_template_rows": null,
            "height": null,
            "justify_content": null,
            "justify_items": null,
            "left": null,
            "margin": null,
            "max_height": null,
            "max_width": null,
            "min_height": null,
            "min_width": null,
            "object_fit": null,
            "object_position": null,
            "order": null,
            "overflow": null,
            "overflow_x": null,
            "overflow_y": null,
            "padding": null,
            "right": null,
            "top": null,
            "visibility": null,
            "width": null
          }
        },
        "c3e1ee2f9e204f0dad6149721e5354f7": {
          "model_module": "@jupyter-widgets/controls",
          "model_module_version": "1.5.0",
          "model_name": "HTMLModel",
          "state": {
            "_dom_classes": [],
            "_model_module": "@jupyter-widgets/controls",
            "_model_module_version": "1.5.0",
            "_model_name": "HTMLModel",
            "_view_count": null,
            "_view_module": "@jupyter-widgets/controls",
            "_view_module_version": "1.5.0",
            "_view_name": "HTMLView",
            "description": "",
            "description_tooltip": null,
            "layout": "IPY_MODEL_ee5c4f9bcc3b4d7896851234f1648411",
            "placeholder": "​",
            "style": "IPY_MODEL_532e2ecc4797447eb1392c2eaf8f3e54",
            "value": "Downloading metadata: 100%"
          }
        },
        "c62efff1a97f4f58b084bb6bd38636d9": {
          "model_module": "@jupyter-widgets/base",
          "model_module_version": "1.2.0",
          "model_name": "LayoutModel",
          "state": {
            "_model_module": "@jupyter-widgets/base",
            "_model_module_version": "1.2.0",
            "_model_name": "LayoutModel",
            "_view_count": null,
            "_view_module": "@jupyter-widgets/base",
            "_view_module_version": "1.2.0",
            "_view_name": "LayoutView",
            "align_content": null,
            "align_items": null,
            "align_self": null,
            "border": null,
            "bottom": null,
            "display": null,
            "flex": null,
            "flex_flow": null,
            "grid_area": null,
            "grid_auto_columns": null,
            "grid_auto_flow": null,
            "grid_auto_rows": null,
            "grid_column": null,
            "grid_gap": null,
            "grid_row": null,
            "grid_template_areas": null,
            "grid_template_columns": null,
            "grid_template_rows": null,
            "height": null,
            "justify_content": null,
            "justify_items": null,
            "left": null,
            "margin": null,
            "max_height": null,
            "max_width": null,
            "min_height": null,
            "min_width": null,
            "object_fit": null,
            "object_position": null,
            "order": null,
            "overflow": null,
            "overflow_x": null,
            "overflow_y": null,
            "padding": null,
            "right": null,
            "top": null,
            "visibility": null,
            "width": null
          }
        },
        "cb2188376cd54c40b9047572fa71191f": {
          "model_module": "@jupyter-widgets/base",
          "model_module_version": "1.2.0",
          "model_name": "LayoutModel",
          "state": {
            "_model_module": "@jupyter-widgets/base",
            "_model_module_version": "1.2.0",
            "_model_name": "LayoutModel",
            "_view_count": null,
            "_view_module": "@jupyter-widgets/base",
            "_view_module_version": "1.2.0",
            "_view_name": "LayoutView",
            "align_content": null,
            "align_items": null,
            "align_self": null,
            "border": null,
            "bottom": null,
            "display": null,
            "flex": null,
            "flex_flow": null,
            "grid_area": null,
            "grid_auto_columns": null,
            "grid_auto_flow": null,
            "grid_auto_rows": null,
            "grid_column": null,
            "grid_gap": null,
            "grid_row": null,
            "grid_template_areas": null,
            "grid_template_columns": null,
            "grid_template_rows": null,
            "height": null,
            "justify_content": null,
            "justify_items": null,
            "left": null,
            "margin": null,
            "max_height": null,
            "max_width": null,
            "min_height": null,
            "min_width": null,
            "object_fit": null,
            "object_position": null,
            "order": null,
            "overflow": null,
            "overflow_x": null,
            "overflow_y": null,
            "padding": null,
            "right": null,
            "top": null,
            "visibility": null,
            "width": null
          }
        },
        "ccda840631f249529271ab95df6aedc4": {
          "model_module": "@jupyter-widgets/controls",
          "model_module_version": "1.5.0",
          "model_name": "ProgressStyleModel",
          "state": {
            "_model_module": "@jupyter-widgets/controls",
            "_model_module_version": "1.5.0",
            "_model_name": "ProgressStyleModel",
            "_view_count": null,
            "_view_module": "@jupyter-widgets/base",
            "_view_module_version": "1.2.0",
            "_view_name": "StyleView",
            "bar_color": null,
            "description_width": ""
          }
        },
        "cd3346374b95420f966f17c6998851c9": {
          "model_module": "@jupyter-widgets/base",
          "model_module_version": "1.2.0",
          "model_name": "LayoutModel",
          "state": {
            "_model_module": "@jupyter-widgets/base",
            "_model_module_version": "1.2.0",
            "_model_name": "LayoutModel",
            "_view_count": null,
            "_view_module": "@jupyter-widgets/base",
            "_view_module_version": "1.2.0",
            "_view_name": "LayoutView",
            "align_content": null,
            "align_items": null,
            "align_self": null,
            "border": null,
            "bottom": null,
            "display": null,
            "flex": null,
            "flex_flow": null,
            "grid_area": null,
            "grid_auto_columns": null,
            "grid_auto_flow": null,
            "grid_auto_rows": null,
            "grid_column": null,
            "grid_gap": null,
            "grid_row": null,
            "grid_template_areas": null,
            "grid_template_columns": null,
            "grid_template_rows": null,
            "height": null,
            "justify_content": null,
            "justify_items": null,
            "left": null,
            "margin": null,
            "max_height": null,
            "max_width": null,
            "min_height": null,
            "min_width": null,
            "object_fit": null,
            "object_position": null,
            "order": null,
            "overflow": null,
            "overflow_x": null,
            "overflow_y": null,
            "padding": null,
            "right": null,
            "top": null,
            "visibility": null,
            "width": null
          }
        },
        "cff44cd010b84b628d2563fa18ed032a": {
          "model_module": "@jupyter-widgets/controls",
          "model_module_version": "1.5.0",
          "model_name": "DescriptionStyleModel",
          "state": {
            "_model_module": "@jupyter-widgets/controls",
            "_model_module_version": "1.5.0",
            "_model_name": "DescriptionStyleModel",
            "_view_count": null,
            "_view_module": "@jupyter-widgets/base",
            "_view_module_version": "1.2.0",
            "_view_name": "StyleView",
            "description_width": ""
          }
        },
        "d0473f19cd9346deb7896cd21ca41742": {
          "model_module": "@jupyter-widgets/controls",
          "model_module_version": "1.5.0",
          "model_name": "DescriptionStyleModel",
          "state": {
            "_model_module": "@jupyter-widgets/controls",
            "_model_module_version": "1.5.0",
            "_model_name": "DescriptionStyleModel",
            "_view_count": null,
            "_view_module": "@jupyter-widgets/base",
            "_view_module_version": "1.2.0",
            "_view_name": "StyleView",
            "description_width": ""
          }
        },
        "d38b23e3acd44e6f885c690e13899f05": {
          "model_module": "@jupyter-widgets/controls",
          "model_module_version": "1.5.0",
          "model_name": "FloatProgressModel",
          "state": {
            "_dom_classes": [],
            "_model_module": "@jupyter-widgets/controls",
            "_model_module_version": "1.5.0",
            "_model_name": "FloatProgressModel",
            "_view_count": null,
            "_view_module": "@jupyter-widgets/controls",
            "_view_module_version": "1.5.0",
            "_view_name": "ProgressView",
            "bar_style": "success",
            "description": "",
            "description_tooltip": null,
            "layout": "IPY_MODEL_0c3e09aa82bb4247b180c828d57bc0d0",
            "max": 14041,
            "min": 0,
            "orientation": "horizontal",
            "style": "IPY_MODEL_0a1978cc9e6e4d5ab85d338c8245aeb3",
            "value": 14041
          }
        },
        "d87844e9dee84120bf8e26a59321e806": {
          "model_module": "@jupyter-widgets/controls",
          "model_module_version": "1.5.0",
          "model_name": "HTMLModel",
          "state": {
            "_dom_classes": [],
            "_model_module": "@jupyter-widgets/controls",
            "_model_module_version": "1.5.0",
            "_model_name": "HTMLModel",
            "_view_count": null,
            "_view_module": "@jupyter-widgets/controls",
            "_view_module_version": "1.5.0",
            "_view_name": "HTMLView",
            "description": "",
            "description_tooltip": null,
            "layout": "IPY_MODEL_3fd8c040d68f44f38ce810fe9307f895",
            "placeholder": "​",
            "style": "IPY_MODEL_8a4d9303b32a4f3ab575b19ba8eedee2",
            "value": "Generating test split: 100%"
          }
        },
        "d8e7fcbfa6854c2eb76fe3de731d6d82": {
          "model_module": "@jupyter-widgets/controls",
          "model_module_version": "1.5.0",
          "model_name": "HBoxModel",
          "state": {
            "_dom_classes": [],
            "_model_module": "@jupyter-widgets/controls",
            "_model_module_version": "1.5.0",
            "_model_name": "HBoxModel",
            "_view_count": null,
            "_view_module": "@jupyter-widgets/controls",
            "_view_module_version": "1.5.0",
            "_view_name": "HBoxView",
            "box_style": "",
            "children": [
              "IPY_MODEL_bda1cc672fb14e85936d52e7bfb45ef7",
              "IPY_MODEL_4c65642c62a14e40b8ab2a296acf2f42",
              "IPY_MODEL_68ff3fc375ef45b8ae25135cb478bc6f"
            ],
            "layout": "IPY_MODEL_095e8daba510440c873557719c809962"
          }
        },
        "da529135f023413f977c7c61a1bb3201": {
          "model_module": "@jupyter-widgets/controls",
          "model_module_version": "1.5.0",
          "model_name": "HTMLModel",
          "state": {
            "_dom_classes": [],
            "_model_module": "@jupyter-widgets/controls",
            "_model_module_version": "1.5.0",
            "_model_name": "HTMLModel",
            "_view_count": null,
            "_view_module": "@jupyter-widgets/controls",
            "_view_module_version": "1.5.0",
            "_view_name": "HTMLView",
            "description": "",
            "description_tooltip": null,
            "layout": "IPY_MODEL_a8cf8f6552424dbdb9cdb852b34e0527",
            "placeholder": "​",
            "style": "IPY_MODEL_4929b5c7b75144409951541b70bce636",
            "value": "Generating validation split: 100%"
          }
        },
        "dafc0922330e403080bbb01556d94729": {
          "model_module": "@jupyter-widgets/base",
          "model_module_version": "1.2.0",
          "model_name": "LayoutModel",
          "state": {
            "_model_module": "@jupyter-widgets/base",
            "_model_module_version": "1.2.0",
            "_model_name": "LayoutModel",
            "_view_count": null,
            "_view_module": "@jupyter-widgets/base",
            "_view_module_version": "1.2.0",
            "_view_name": "LayoutView",
            "align_content": null,
            "align_items": null,
            "align_self": null,
            "border": null,
            "bottom": null,
            "display": null,
            "flex": null,
            "flex_flow": null,
            "grid_area": null,
            "grid_auto_columns": null,
            "grid_auto_flow": null,
            "grid_auto_rows": null,
            "grid_column": null,
            "grid_gap": null,
            "grid_row": null,
            "grid_template_areas": null,
            "grid_template_columns": null,
            "grid_template_rows": null,
            "height": null,
            "justify_content": null,
            "justify_items": null,
            "left": null,
            "margin": null,
            "max_height": null,
            "max_width": null,
            "min_height": null,
            "min_width": null,
            "object_fit": null,
            "object_position": null,
            "order": null,
            "overflow": null,
            "overflow_x": null,
            "overflow_y": null,
            "padding": null,
            "right": null,
            "top": null,
            "visibility": null,
            "width": null
          }
        },
        "dc55d45a342d48efb1d65566e22953ba": {
          "model_module": "@jupyter-widgets/controls",
          "model_module_version": "1.5.0",
          "model_name": "DescriptionStyleModel",
          "state": {
            "_model_module": "@jupyter-widgets/controls",
            "_model_module_version": "1.5.0",
            "_model_name": "DescriptionStyleModel",
            "_view_count": null,
            "_view_module": "@jupyter-widgets/base",
            "_view_module_version": "1.2.0",
            "_view_name": "StyleView",
            "description_width": ""
          }
        },
        "df1771595ae541cb8d83cfe0ebbcaab3": {
          "model_module": "@jupyter-widgets/controls",
          "model_module_version": "1.5.0",
          "model_name": "DescriptionStyleModel",
          "state": {
            "_model_module": "@jupyter-widgets/controls",
            "_model_module_version": "1.5.0",
            "_model_name": "DescriptionStyleModel",
            "_view_count": null,
            "_view_module": "@jupyter-widgets/base",
            "_view_module_version": "1.2.0",
            "_view_name": "StyleView",
            "description_width": ""
          }
        },
        "e4a822d973934e63b59b25c131e99c7c": {
          "model_module": "@jupyter-widgets/controls",
          "model_module_version": "1.5.0",
          "model_name": "FloatProgressModel",
          "state": {
            "_dom_classes": [],
            "_model_module": "@jupyter-widgets/controls",
            "_model_module_version": "1.5.0",
            "_model_name": "FloatProgressModel",
            "_view_count": null,
            "_view_module": "@jupyter-widgets/controls",
            "_view_module_version": "1.5.0",
            "_view_name": "ProgressView",
            "bar_style": "success",
            "description": "",
            "description_tooltip": null,
            "layout": "IPY_MODEL_56fe55afe6094de6ae3d6a1235917877",
            "max": 982975,
            "min": 0,
            "orientation": "horizontal",
            "style": "IPY_MODEL_490165512cd64c07bd367931d48bb73e",
            "value": 982975
          }
        },
        "e505f442d6e642c392bc34231ab27ae2": {
          "model_module": "@jupyter-widgets/base",
          "model_module_version": "1.2.0",
          "model_name": "LayoutModel",
          "state": {
            "_model_module": "@jupyter-widgets/base",
            "_model_module_version": "1.2.0",
            "_model_name": "LayoutModel",
            "_view_count": null,
            "_view_module": "@jupyter-widgets/base",
            "_view_module_version": "1.2.0",
            "_view_name": "LayoutView",
            "align_content": null,
            "align_items": null,
            "align_self": null,
            "border": null,
            "bottom": null,
            "display": null,
            "flex": null,
            "flex_flow": null,
            "grid_area": null,
            "grid_auto_columns": null,
            "grid_auto_flow": null,
            "grid_auto_rows": null,
            "grid_column": null,
            "grid_gap": null,
            "grid_row": null,
            "grid_template_areas": null,
            "grid_template_columns": null,
            "grid_template_rows": null,
            "height": null,
            "justify_content": null,
            "justify_items": null,
            "left": null,
            "margin": null,
            "max_height": null,
            "max_width": null,
            "min_height": null,
            "min_width": null,
            "object_fit": null,
            "object_position": null,
            "order": null,
            "overflow": null,
            "overflow_x": null,
            "overflow_y": null,
            "padding": null,
            "right": null,
            "top": null,
            "visibility": null,
            "width": null
          }
        },
        "ee5c4f9bcc3b4d7896851234f1648411": {
          "model_module": "@jupyter-widgets/base",
          "model_module_version": "1.2.0",
          "model_name": "LayoutModel",
          "state": {
            "_model_module": "@jupyter-widgets/base",
            "_model_module_version": "1.2.0",
            "_model_name": "LayoutModel",
            "_view_count": null,
            "_view_module": "@jupyter-widgets/base",
            "_view_module_version": "1.2.0",
            "_view_name": "LayoutView",
            "align_content": null,
            "align_items": null,
            "align_self": null,
            "border": null,
            "bottom": null,
            "display": null,
            "flex": null,
            "flex_flow": null,
            "grid_area": null,
            "grid_auto_columns": null,
            "grid_auto_flow": null,
            "grid_auto_rows": null,
            "grid_column": null,
            "grid_gap": null,
            "grid_row": null,
            "grid_template_areas": null,
            "grid_template_columns": null,
            "grid_template_rows": null,
            "height": null,
            "justify_content": null,
            "justify_items": null,
            "left": null,
            "margin": null,
            "max_height": null,
            "max_width": null,
            "min_height": null,
            "min_width": null,
            "object_fit": null,
            "object_position": null,
            "order": null,
            "overflow": null,
            "overflow_x": null,
            "overflow_y": null,
            "padding": null,
            "right": null,
            "top": null,
            "visibility": null,
            "width": null
          }
        },
        "f1e702f29e8f41ebb941799a1fceabeb": {
          "model_module": "@jupyter-widgets/controls",
          "model_module_version": "1.5.0",
          "model_name": "ProgressStyleModel",
          "state": {
            "_model_module": "@jupyter-widgets/controls",
            "_model_module_version": "1.5.0",
            "_model_name": "ProgressStyleModel",
            "_view_count": null,
            "_view_module": "@jupyter-widgets/base",
            "_view_module_version": "1.2.0",
            "_view_name": "StyleView",
            "bar_color": null,
            "description_width": ""
          }
        },
        "f5891e60257b43ee8dd3cec89d0a692e": {
          "model_module": "@jupyter-widgets/base",
          "model_module_version": "1.2.0",
          "model_name": "LayoutModel",
          "state": {
            "_model_module": "@jupyter-widgets/base",
            "_model_module_version": "1.2.0",
            "_model_name": "LayoutModel",
            "_view_count": null,
            "_view_module": "@jupyter-widgets/base",
            "_view_module_version": "1.2.0",
            "_view_name": "LayoutView",
            "align_content": null,
            "align_items": null,
            "align_self": null,
            "border": null,
            "bottom": null,
            "display": null,
            "flex": null,
            "flex_flow": null,
            "grid_area": null,
            "grid_auto_columns": null,
            "grid_auto_flow": null,
            "grid_auto_rows": null,
            "grid_column": null,
            "grid_gap": null,
            "grid_row": null,
            "grid_template_areas": null,
            "grid_template_columns": null,
            "grid_template_rows": null,
            "height": null,
            "justify_content": null,
            "justify_items": null,
            "left": null,
            "margin": null,
            "max_height": null,
            "max_width": null,
            "min_height": null,
            "min_width": null,
            "object_fit": null,
            "object_position": null,
            "order": null,
            "overflow": null,
            "overflow_x": null,
            "overflow_y": null,
            "padding": null,
            "right": null,
            "top": null,
            "visibility": null,
            "width": null
          }
        },
        "f8fd87587e7a4eaa9a6411517ce6e075": {
          "model_module": "@jupyter-widgets/base",
          "model_module_version": "1.2.0",
          "model_name": "LayoutModel",
          "state": {
            "_model_module": "@jupyter-widgets/base",
            "_model_module_version": "1.2.0",
            "_model_name": "LayoutModel",
            "_view_count": null,
            "_view_module": "@jupyter-widgets/base",
            "_view_module_version": "1.2.0",
            "_view_name": "LayoutView",
            "align_content": null,
            "align_items": null,
            "align_self": null,
            "border": null,
            "bottom": null,
            "display": null,
            "flex": null,
            "flex_flow": null,
            "grid_area": null,
            "grid_auto_columns": null,
            "grid_auto_flow": null,
            "grid_auto_rows": null,
            "grid_column": null,
            "grid_gap": null,
            "grid_row": null,
            "grid_template_areas": null,
            "grid_template_columns": null,
            "grid_template_rows": null,
            "height": null,
            "justify_content": null,
            "justify_items": null,
            "left": null,
            "margin": null,
            "max_height": null,
            "max_width": null,
            "min_height": null,
            "min_width": null,
            "object_fit": null,
            "object_position": null,
            "order": null,
            "overflow": null,
            "overflow_x": null,
            "overflow_y": null,
            "padding": null,
            "right": null,
            "top": null,
            "visibility": null,
            "width": null
          }
        },
        "fa480258c772478395ce4868c42dc623": {
          "model_module": "@jupyter-widgets/controls",
          "model_module_version": "1.5.0",
          "model_name": "HTMLModel",
          "state": {
            "_dom_classes": [],
            "_model_module": "@jupyter-widgets/controls",
            "_model_module_version": "1.5.0",
            "_model_name": "HTMLModel",
            "_view_count": null,
            "_view_module": "@jupyter-widgets/controls",
            "_view_module_version": "1.5.0",
            "_view_name": "HTMLView",
            "description": "",
            "description_tooltip": null,
            "layout": "IPY_MODEL_e505f442d6e642c392bc34231ab27ae2",
            "placeholder": "​",
            "style": "IPY_MODEL_a0d33993eba74f0b8d601a042f3e66c1",
            "value": "Downloading data: 100%"
          }
        },
        "fbe06a40d1a340efa74a690f9456a45c": {
          "model_module": "@jupyter-widgets/base",
          "model_module_version": "1.2.0",
          "model_name": "LayoutModel",
          "state": {
            "_model_module": "@jupyter-widgets/base",
            "_model_module_version": "1.2.0",
            "_model_name": "LayoutModel",
            "_view_count": null,
            "_view_module": "@jupyter-widgets/base",
            "_view_module_version": "1.2.0",
            "_view_name": "LayoutView",
            "align_content": null,
            "align_items": null,
            "align_self": null,
            "border": null,
            "bottom": null,
            "display": null,
            "flex": null,
            "flex_flow": null,
            "grid_area": null,
            "grid_auto_columns": null,
            "grid_auto_flow": null,
            "grid_auto_rows": null,
            "grid_column": null,
            "grid_gap": null,
            "grid_row": null,
            "grid_template_areas": null,
            "grid_template_columns": null,
            "grid_template_rows": null,
            "height": null,
            "justify_content": null,
            "justify_items": null,
            "left": null,
            "margin": null,
            "max_height": null,
            "max_width": null,
            "min_height": null,
            "min_width": null,
            "object_fit": null,
            "object_position": null,
            "order": null,
            "overflow": null,
            "overflow_x": null,
            "overflow_y": null,
            "padding": null,
            "right": null,
            "top": null,
            "visibility": null,
            "width": null
          }
        },
        "fe1382a3775e483193db769711e246f2": {
          "model_module": "@jupyter-widgets/controls",
          "model_module_version": "1.5.0",
          "model_name": "HTMLModel",
          "state": {
            "_dom_classes": [],
            "_model_module": "@jupyter-widgets/controls",
            "_model_module_version": "1.5.0",
            "_model_name": "HTMLModel",
            "_view_count": null,
            "_view_module": "@jupyter-widgets/controls",
            "_view_module_version": "1.5.0",
            "_view_name": "HTMLView",
            "description": "",
            "description_tooltip": null,
            "layout": "IPY_MODEL_cb2188376cd54c40b9047572fa71191f",
            "placeholder": "​",
            "style": "IPY_MODEL_66e10304117e4397935c893e2f45217b",
            "value": "Filter: 100%"
          }
        },
        "ff2e000969bd400cb2314b706c9cc9e0": {
          "model_module": "@jupyter-widgets/base",
          "model_module_version": "1.2.0",
          "model_name": "LayoutModel",
          "state": {
            "_model_module": "@jupyter-widgets/base",
            "_model_module_version": "1.2.0",
            "_model_name": "LayoutModel",
            "_view_count": null,
            "_view_module": "@jupyter-widgets/base",
            "_view_module_version": "1.2.0",
            "_view_name": "LayoutView",
            "align_content": null,
            "align_items": null,
            "align_self": null,
            "border": null,
            "bottom": null,
            "display": null,
            "flex": null,
            "flex_flow": null,
            "grid_area": null,
            "grid_auto_columns": null,
            "grid_auto_flow": null,
            "grid_auto_rows": null,
            "grid_column": null,
            "grid_gap": null,
            "grid_row": null,
            "grid_template_areas": null,
            "grid_template_columns": null,
            "grid_template_rows": null,
            "height": null,
            "justify_content": null,
            "justify_items": null,
            "left": null,
            "margin": null,
            "max_height": null,
            "max_width": null,
            "min_height": null,
            "min_width": null,
            "object_fit": null,
            "object_position": null,
            "order": null,
            "overflow": null,
            "overflow_x": null,
            "overflow_y": null,
            "padding": null,
            "right": null,
            "top": null,
            "visibility": null,
            "width": null
          }
        }
      }
    }
  },
  "nbformat": 4,
  "nbformat_minor": 5
}
